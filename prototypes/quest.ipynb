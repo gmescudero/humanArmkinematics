{
 "cells": [
  {
   "cell_type": "code",
   "execution_count": 13,
   "id": "2e683076",
   "metadata": {},
   "outputs": [],
   "source": [
    "import numpy as np\n",
    "from numpy import linalg as LA\n",
    "import sympy as sp\n",
    "import math\n",
    "import copy"
   ]
  },
  {
   "cell_type": "code",
   "execution_count": 14,
   "id": "aa410cad",
   "metadata": {},
   "outputs": [],
   "source": [
    "#This fucntion adds up the weights which is to be used as an inital guess for the required eigenvalye.\n",
    "def sumweights(w,k):\n",
    "    temp = 0.0\n",
    "    for i in range(k):\n",
    "        temp = temp + w[i]\n",
    "    return (temp)"
   ]
  },
  {
   "cell_type": "code",
   "execution_count": 15,
   "id": "7d2ef67b",
   "metadata": {},
   "outputs": [],
   "source": [
    "#The next five functions calculate components required to build a matrix 'K', crucial for further algorithm.\n",
    "\n",
    "#This function calculates a matrix 'B', a summation of outerproducts of vectors in both frames scaled to their weights.\n",
    "def B(r,b,w,k):\n",
    "    Bmatrix = np.array([[0,0,0],[0,0,0],[0,0,0]])\n",
    "    for i in range(k):\n",
    "        Bmatrix = (Bmatrix+w[i]*(np.array(b[i]).T)@np.array(r[i]))\n",
    "    return (Bmatrix)\n",
    "\n",
    "#This function calculates the trace of the above obtained matrix\n",
    "def sigma(r,b,w,k):\n",
    "    return (np.trace(B(r,b,w,k)))\n",
    "\n",
    "#This function calculates a matrix 'S' which is nothing but sum of 'B' and its transpose.\n",
    "def S(r,b,w,k):\n",
    "    return (B(r,b,w,k)+B(r,b,w,k).T)\n",
    "\n",
    "#Defines a matrix which is nothing but difference of 'S' matrix and a scalar matrix with diagonal elements as the trace of 'B'.\n",
    "def S2(r,b,w,k):\n",
    "    return (S(r,b,w,k)-sigma(r,b,w,k)*np.array([[1,0,0],[0,1,0],[0,0,1]]))\n",
    "\n",
    "#Defines a column matrix 'Z' from the elements of matrix 'B'\n",
    "def Z(r,b,w,k):\n",
    "    A = B(r,b,w,k)\n",
    "    return ((np.array([[A[1,2]-A[2,1],A[2,0]-A[0,2],A[0,1]-A[1,0]]]).T))"
   ]
  },
  {
   "cell_type": "code",
   "execution_count": 16,
   "id": "6a1bc64e",
   "metadata": {},
   "outputs": [],
   "source": [
    "#Defines a matrix 'K' as mentioned earlier using the returned quantities from the above function.\n",
    "def K(r,b,w,k):\n",
    "    sigmatemp = sigma(r,b,w,k)\n",
    "    Ztemp = Z(r,b,w,k)\n",
    "    S2temp = S2(r,b,w,k)\n",
    "    A = np.array([\n",
    "        [sigmatemp, Ztemp[0,0], Ztemp[1,0], Ztemp[2,0]],\n",
    "        [Ztemp[0,0],S2temp[0,0],S2temp[0,1],S2temp[0,2]],\n",
    "        [Ztemp[1,0],S2temp[1,0],S2temp[1,1],S2temp[1,2]],\n",
    "        [Ztemp[2,0],S2temp[2,0],S2temp[2,1],S2temp[2,2]]\n",
    "    ])\n",
    "    return (A)"
   ]
  },
  {
   "cell_type": "code",
   "execution_count": 17,
   "id": "33197421",
   "metadata": {},
   "outputs": [],
   "source": [
    "def Eigen(r,b,w,k):\n",
    "    Atemp = sp.Matrix(K(r,b,w,k))\n",
    "    return LA.eig(K)"
   ]
  },
  {
   "cell_type": "code",
   "execution_count": 18,
   "id": "a8248498",
   "metadata": {},
   "outputs": [],
   "source": [
    "#Give the value of the 'characterisitic polynomial' of matrix 'K' when a value of 's' is substituted.\n",
    "def matrix_minus_scaled_eye_compute(r,b,w,k,s):\n",
    "    Ktemp = K(r,b,w,k)-np.array([[s,0,0,0],[0,s,0,0],[0,0,s,0],[0,0,0,s]])\n",
    "    return (sp.det(sp.Matrix(Ktemp)))"
   ]
  },
  {
   "cell_type": "code",
   "execution_count": 19,
   "id": "33698788",
   "metadata": {},
   "outputs": [],
   "source": [
    "#Gives the value of the derivative of the above polynomial when a value of 's' is substituted.\n",
    "def matrix_minus_scaled_eye_derivative_compute(r,b,w,k,s):\n",
    "    m = sp.Symbol('m')\n",
    "    Ktemp = sp.Matrix(K(r,b,w,k))-sp.Matrix([[m,0,0,0],[0,m,0,0],[0,0,m,0],[0,0,0,m]])\n",
    "    func = sp.det(Ktemp)\n",
    "    deri = sp.diff(func,m)\n",
    "    return (deri.subs({m:s}))"
   ]
  },
  {
   "cell_type": "code",
   "execution_count": 20,
   "id": "d68325f2",
   "metadata": {},
   "outputs": [],
   "source": [
    "#Calculates a pretty close root to the 'characterisitic polynomial' of matrix 'K' using Newton Raphson's method.\n",
    "#Roots to a characteristic polynomial of a matrix are its eigenvalues.\n",
    "def newton_raphson_caracteristical_poly_roots_compute(r,b,w,k,s):\n",
    "    a0 = s+0.0\n",
    "    f = matrix_minus_scaled_eye_compute(r,b,w,k,a0)\n",
    "    while matrix_minus_scaled_eye_compute(r,b,w,k,a0)>0.01:\n",
    "        f = matrix_minus_scaled_eye_compute(r,b,w,k,a0)\n",
    "        df = matrix_minus_scaled_eye_derivative_compute(r,b,w,k,a0)\n",
    "        a0 = a0 - (f/df)\n",
    "    return (a0)"
   ]
  },
  {
   "cell_type": "code",
   "execution_count": 21,
   "id": "51f2ce32",
   "metadata": {},
   "outputs": [],
   "source": [
    "#Determines the 'classical rodrigues parameter'.\n",
    "def classical_rodriges_parameter_compute(r,b,w,k):\n",
    "    u = newton_raphson_caracteristical_poly_roots_compute(r,b,w,k,sumweights(w,k)) + sigma(r,b,w,k)\n",
    "    Stemp = S(r,b,w,k)\n",
    "    Ztemp = Z(r,b,w,k)\n",
    "    p = np.array([[u,0,0],[0,u,0],[0,0,u]])-Stemp\n",
    "    return ((sp.Matrix(p)**-1)@Ztemp)"
   ]
  },
  {
   "cell_type": "code",
   "execution_count": 22,
   "id": "c0892659",
   "metadata": {},
   "outputs": [],
   "source": [
    "#Calculates the 'quaternion' form of the attitude, (Convention used: First element is the scalar, and next three is the vector)\n",
    "def quaternion(r,b,w,k):\n",
    "    qtemp = classical_rodriges_parameter_compute(r,b,w,k)\n",
    "    a = 1/(math.sqrt(1+sp.det((qtemp.T)*qtemp)))\n",
    "    return (np.array(sp.Matrix([[a],[a*qtemp[0,0]],[a*qtemp[1,0]],[a*qtemp[2,0]]])))"
   ]
  },
  {
   "cell_type": "code",
   "execution_count": 23,
   "id": "11740912",
   "metadata": {},
   "outputs": [],
   "source": [
    "#Takes the nummber of measurements\n",
    "k = int(input(\"Please enter the number of measurements: \"))"
   ]
  },
  {
   "cell_type": "code",
   "execution_count": 24,
   "id": "6e25f026",
   "metadata": {
    "scrolled": true
   },
   "outputs": [
    {
     "name": "stdout",
     "output_type": "stream",
     "text": [
      "Please enter the unit vectors for them in the 'Reference frame': \n"
     ]
    }
   ],
   "source": [
    "#Takes the vectors in reference frame\n",
    "print (\"Please enter the unit vectors for them in the 'Reference frame': \")\n",
    "empty = [[]]\n",
    "r = []\n",
    "for i in range(k):\n",
    "    r.append(copy.copy(empty))\n",
    "for i in range(k):\n",
    "    r[i][0] = list(map(float,(input(str(i+1)+\": \").split())))"
   ]
  },
  {
   "cell_type": "code",
   "execution_count": 25,
   "id": "41bbf21e",
   "metadata": {},
   "outputs": [
    {
     "name": "stdout",
     "output_type": "stream",
     "text": [
      "Please enter the unit vectors for them in the 'Body frame': \n"
     ]
    }
   ],
   "source": [
    "#Takes the vectors in body frame\n",
    "print (\"Please enter the unit vectors for them in the 'Body frame': \")\n",
    "b = []\n",
    "for i in range(k):\n",
    "    b.append(copy.copy(empty))\n",
    "for i in range(k):\n",
    "    b[i][0] = list(map(float,(input(str(i+1)+\": \").split())))"
   ]
  },
  {
   "cell_type": "code",
   "execution_count": 28,
   "id": "453e0ec3",
   "metadata": {},
   "outputs": [],
   "source": [
    "#Takes the weights of each vector measurement\n",
    "w = []\n",
    "for i in range(k):\n",
    "    w.append(float(input(str(i+1)+\": \")))"
   ]
  },
  {
   "cell_type": "code",
   "execution_count": 29,
   "id": "0dc56486",
   "metadata": {},
   "outputs": [
    {
     "name": "stdout",
     "output_type": "stream",
     "text": [
      "[[0.907907935386163]\n",
      " [0]\n",
      " [0]\n",
      " [-0.419169632562802]]\n"
     ]
    }
   ],
   "source": [
    "#Prints quaternion form of Attitude\n",
    "print (quaternion(r,b,w,k))\n"
   ]
  }
 ],
 "metadata": {
  "kernelspec": {
   "display_name": "Python 3",
   "language": "python",
   "name": "python3"
  },
  "language_info": {
   "codemirror_mode": {
    "name": "ipython",
    "version": 3
   },
   "file_extension": ".py",
   "mimetype": "text/x-python",
   "name": "python",
   "nbconvert_exporter": "python",
   "pygments_lexer": "ipython3",
   "version": "3.8.10"
  },
  "vscode": {
   "interpreter": {
    "hash": "916dbcbb3f70747c44a77c7bcd40155683ae19c65e1c03b4aa3499c5328201f1"
   }
  }
 },
 "nbformat": 4,
 "nbformat_minor": 5
}
