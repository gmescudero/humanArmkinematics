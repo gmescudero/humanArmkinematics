{
 "cells": [
  {
   "cell_type": "code",
   "execution_count": 7,
   "metadata": {},
   "outputs": [],
   "source": [
    "import os\n",
    "import matplotlib.pyplot as plt\n",
    "import numpy as np\n",
    "import pandas as pd\n",
    "import sympy\n",
    "import quaternion"
   ]
  },
  {
   "cell_type": "code",
   "execution_count": 8,
   "metadata": {},
   "outputs": [
    {
     "data": {
      "text/html": [
       "<div>\n",
       "<style scoped>\n",
       "    .dataframe tbody tr th:only-of-type {\n",
       "        vertical-align: middle;\n",
       "    }\n",
       "\n",
       "    .dataframe tbody tr th {\n",
       "        vertical-align: top;\n",
       "    }\n",
       "\n",
       "    .dataframe thead th {\n",
       "        text-align: right;\n",
       "    }\n",
       "</style>\n",
       "<table border=\"1\" class=\"dataframe\">\n",
       "  <thead>\n",
       "    <tr style=\"text-align: right;\">\n",
       "      <th></th>\n",
       "      <th>IMU_TIMESTAMP(0)_0</th>\n",
       "      <th>IMU_GYROSCOPE(0)_0</th>\n",
       "      <th>IMU_GYROSCOPE(0)_1</th>\n",
       "      <th>IMU_GYROSCOPE(0)_2</th>\n",
       "      <th>IMU_GYROSCOPE(1)_0</th>\n",
       "      <th>IMU_GYROSCOPE(1)_1</th>\n",
       "      <th>IMU_GYROSCOPE(1)_2</th>\n",
       "      <th>IMU_ACCELEROMETER(0)_0</th>\n",
       "      <th>IMU_ACCELEROMETER(0)_1</th>\n",
       "      <th>IMU_ACCELEROMETER(0)_2</th>\n",
       "      <th>...</th>\n",
       "      <th>IMU_LINEAR_ACCELERATION(1)_1</th>\n",
       "      <th>IMU_LINEAR_ACCELERATION(1)_2</th>\n",
       "      <th>IMU_QUATERNION(0)_0</th>\n",
       "      <th>IMU_QUATERNION(0)_1</th>\n",
       "      <th>IMU_QUATERNION(0)_2</th>\n",
       "      <th>IMU_QUATERNION(0)_3</th>\n",
       "      <th>IMU_QUATERNION(1)_0</th>\n",
       "      <th>IMU_QUATERNION(1)_1</th>\n",
       "      <th>IMU_QUATERNION(1)_2</th>\n",
       "      <th>IMU_QUATERNION(1)_3</th>\n",
       "    </tr>\n",
       "  </thead>\n",
       "  <tbody>\n",
       "  </tbody>\n",
       "</table>\n",
       "<p>0 rows × 39 columns</p>\n",
       "</div>"
      ],
      "text/plain": [
       "Empty DataFrame\n",
       "Columns: [IMU_TIMESTAMP(0)_0, IMU_GYROSCOPE(0)_0, IMU_GYROSCOPE(0)_1, IMU_GYROSCOPE(0)_2, IMU_GYROSCOPE(1)_0, IMU_GYROSCOPE(1)_1, IMU_GYROSCOPE(1)_2, IMU_ACCELEROMETER(0)_0, IMU_ACCELEROMETER(0)_1, IMU_ACCELEROMETER(0)_2, IMU_ACCELEROMETER(1)_0, IMU_ACCELEROMETER(1)_1, IMU_ACCELEROMETER(1)_2, IMU_MAGNETOMETER(0)_0, IMU_MAGNETOMETER(0)_1, IMU_MAGNETOMETER(0)_2, IMU_MAGNETOMETER(1)_0, IMU_MAGNETOMETER(1)_1, IMU_MAGNETOMETER(1)_2, IMU_ANGULAR_VELOCITY(0)_0, IMU_ANGULAR_VELOCITY(0)_1, IMU_ANGULAR_VELOCITY(0)_2, IMU_ANGULAR_VELOCITY(1)_0, IMU_ANGULAR_VELOCITY(1)_1, IMU_ANGULAR_VELOCITY(1)_2, IMU_LINEAR_ACCELERATION(0)_0, IMU_LINEAR_ACCELERATION(0)_1, IMU_LINEAR_ACCELERATION(0)_2, IMU_LINEAR_ACCELERATION(1)_0, IMU_LINEAR_ACCELERATION(1)_1, IMU_LINEAR_ACCELERATION(1)_2, IMU_QUATERNION(0)_0, IMU_QUATERNION(0)_1, IMU_QUATERNION(0)_2, IMU_QUATERNION(0)_3, IMU_QUATERNION(1)_0, IMU_QUATERNION(1)_1, IMU_QUATERNION(1)_2, IMU_QUATERNION(1)_3]\n",
       "Index: []\n",
       "\n",
       "[0 rows x 39 columns]"
      ]
     },
     "execution_count": 8,
     "metadata": {},
     "output_type": "execute_result"
    }
   ],
   "source": [
    "# path = \"../data/tst_cal_005.csv\"\n",
    "path = \"data5_tst_cal_004_onArmArbitraryMotions.csv\"\n",
    "df = pd.read_csv(path)\n",
    "df.head(0)"
   ]
  },
  {
   "cell_type": "markdown",
   "metadata": {},
   "source": [
    "## Define equations"
   ]
  },
  {
   "cell_type": "code",
   "execution_count": 9,
   "metadata": {},
   "outputs": [
    {
     "data": {
      "text/latex": [
       "$\\displaystyle \\left(J J^{T}\\right)^{-1} J \\epsilon$"
      ],
      "text/plain": [
       "(J*J.T)**(-1)*J*epsilon"
      ]
     },
     "execution_count": 9,
     "metadata": {},
     "output_type": "execute_result"
    }
   ],
   "source": [
    "J       = sympy.MatrixSymbol('J', 4, 10)\n",
    "phi     = sympy.MatrixSymbol('phi', 4, 1)\n",
    "epsilon = sympy.MatrixSymbol('epsilon', 10, 1)\n",
    "\n",
    "gauss_newton_delta = (J*J.transpose()) ** -1 * J * epsilon\n",
    "gauss_newton_delta"
   ]
  },
  {
   "cell_type": "code",
   "execution_count": 10,
   "metadata": {},
   "outputs": [
    {
     "data": {
      "text/latex": [
       "$\\displaystyle \\omega_{x} \\left(\\sin{\\left(\\rho_{1} \\right)} \\cos{\\left(\\theta_{1} \\right)} \\cos{\\left(\\theta_{2} \\right)} + \\sin{\\left(\\rho_{2} \\right)} \\sin{\\left(\\theta_{1} \\right)} \\sin{\\left(\\theta_{2} \\right)}\\right) + \\omega_{y} \\left(- \\sin{\\left(\\theta_{1} \\right)} \\sin{\\left(\\theta_{2} \\right)} \\cos{\\left(\\rho_{2} \\right)} - \\cos{\\left(\\rho_{1} \\right)} \\cos{\\left(\\theta_{1} \\right)} \\cos{\\left(\\theta_{2} \\right)}\\right) + \\omega_{z} \\left(- \\sin{\\left(\\rho_{1} \\right)} \\sin{\\left(\\theta_{2} \\right)} \\cos{\\left(\\rho_{2} \\right)} \\cos{\\left(\\theta_{1} \\right)} + \\sin{\\left(\\rho_{2} \\right)} \\sin{\\left(\\theta_{2} \\right)} \\cos{\\left(\\rho_{1} \\right)} \\cos{\\left(\\theta_{1} \\right)}\\right)$"
      ],
      "text/plain": [
       "omega_x*(sin(rho_1)*cos(theta_1)*cos(theta_2) + sin(rho_2)*sin(theta_1)*sin(theta_2)) + omega_y*(-sin(theta_1)*sin(theta_2)*cos(rho_2) - cos(rho_1)*cos(theta_1)*cos(theta_2)) + omega_z*(-sin(rho_1)*sin(theta_2)*cos(rho_2)*cos(theta_1) + sin(rho_2)*sin(theta_2)*cos(rho_1)*cos(theta_1))"
      ]
     },
     "execution_count": 10,
     "metadata": {},
     "output_type": "execute_result"
    }
   ],
   "source": [
    "theta1,rho1,theta2,rho2 = sympy.symbols('theta_1 rho_1 theta_2 rho_2')\n",
    "j1 = sympy.Matrix([\n",
    "        sympy.sin(theta1)*sympy.cos(rho1),\n",
    "        sympy.sin(theta1)*sympy.sin(rho1),\n",
    "        sympy.cos(theta1)\n",
    "    ])\n",
    "j2 = sympy.Matrix([\n",
    "        sympy.sin(theta2)*sympy.cos(rho2),\n",
    "        sympy.sin(theta2)*sympy.sin(rho2),\n",
    "        sympy.cos(theta2)\n",
    "    ])\n",
    "omegaX,omegaY,omegaZ = sympy.symbols('omega_x omega_y omega_z')\n",
    "omegaR = sympy.Matrix([omegaX, omegaY, omegaZ ])\n",
    "\n",
    "error = omegaR.dot(j1.cross(j2))\n",
    "derr_theta1 = sympy.diff(error,theta1)\n",
    "derr_rho1   = sympy.diff(error,rho1)\n",
    "derr_theta2 = sympy.diff(error,theta2)\n",
    "derr_rho2   = sympy.diff(error,rho2)\n",
    "\n",
    "J_col = sympy.Matrix(4,1, [\n",
    "    derr_theta1, derr_rho1, derr_theta2, derr_rho2\n",
    "])\n",
    "derr_theta1"
   ]
  },
  {
   "cell_type": "markdown",
   "metadata": {},
   "source": [
    "## Agorithm"
   ]
  },
  {
   "cell_type": "code",
   "execution_count": 11,
   "metadata": {},
   "outputs": [
    {
     "data": {
      "text/latex": [
       "$\\displaystyle \\left[\\begin{matrix}5.43940552023626\\\\5.57278026094009\\\\-5.43940552023626\\\\-5.57278026094009\\end{matrix}\\right]$"
      ],
      "text/plain": [
       "Matrix([\n",
       "[ 5.43940552023626],\n",
       "[ 5.57278026094009],\n",
       "[-5.43940552023626],\n",
       "[-5.57278026094009]])"
      ]
     },
     "execution_count": 11,
     "metadata": {},
     "output_type": "execute_result"
    }
   ],
   "source": [
    "th1_t = np.pi/2\n",
    "rh1_t = np.pi/2\n",
    "th2_t = np.pi/2\n",
    "rh2_t = np.pi/2\n",
    "\n",
    "RMS = 0\n",
    "error_vector = []\n",
    "\n",
    "Jacobian = None\n",
    "\n",
    "for i,row in df.iterrows():\n",
    "    ## Retrieve data from csv file\n",
    "    omega1 = np.array([ row['IMU_GYROSCOPE(0)_0'], row['IMU_GYROSCOPE(0)_1'], row['IMU_GYROSCOPE(0)_2']] )\n",
    "    omega2 = np.array([ row['IMU_GYROSCOPE(1)_0'], row['IMU_GYROSCOPE(1)_1'], row['IMU_GYROSCOPE(1)_2']] )\n",
    "    q1  = np.quaternion(row['IMU_QUATERNION(0)_0'], row['IMU_QUATERNION(0)_1'], row['IMU_QUATERNION(0)_2'], row['IMU_QUATERNION(0)_3'])\n",
    "    q2  = np.quaternion(row['IMU_QUATERNION(1)_0'], row['IMU_QUATERNION(1)_1'], row['IMU_QUATERNION(1)_2'], row['IMU_QUATERNION(1)_3'])\n",
    "    ## Compute relative values\n",
    "    qR = q1.inverse() * q2\n",
    "    omegaR = quaternion.rotate_vectors(qR,omega2) - omega1\n",
    "    ## Calculate error\n",
    "    values = [\n",
    "        (omegaX,omegaR[0]),(omegaY,omegaR[1]),(omegaZ,omegaR[2]),\n",
    "        (theta1,th1_t),(rho1,rh1_t),(theta2,th2_t),(rho2,rh2_t)\n",
    "    ]\n",
    "    error_val = error.subs(values)\n",
    "    error_vector.append(error_val)\n",
    "    RMS += float(error_val*error_val)\n",
    "    ## Calculate Jacobian\n",
    "    if Jacobian is None:\n",
    "        Jacobian = sympy.Matrix(J_col.subs(values))\n",
    "    else:\n",
    "        Jacobian = Jacobian.row_join(J_col.subs(values))\n",
    "    break\n",
    "\n",
    "\n",
    "\n",
    "\n",
    "RMS = np.sqrt(RMS)\n",
    "Jacobian"
   ]
  },
  {
   "cell_type": "markdown",
   "metadata": {},
   "source": [
    "## Compute C code"
   ]
  },
  {
   "cell_type": "code",
   "execution_count": 12,
   "metadata": {},
   "outputs": [],
   "source": [
    "from sympy.utilities.codegen import codegen\n",
    "[(c_name, c_code), (h_name, c_header)] = codegen(('error', error), \"C99\", \"error_fnc\", header=False, empty=False)\n",
    "# [(c_name, c_code), (h_name, c_header)] = codegen(('gauss_newton', gauss_newton_delta), \"C99\", \"gauss_newton\", header=False, empty=False)\n",
    "# [(c_name, c_code), (h_name, c_header)] = codegen(('error_dt1', derr_theta1), \"C99\", \"error_derivatives\", header=False, empty=False)\n",
    "# [(c_name, c_code), (h_name, c_header)] = codegen(('error_dr1', derr_rho1),   \"C99\", \"error_derivatives\", header=False, empty=False)\n",
    "# [(c_name, c_code), (h_name, c_header)] = codegen(('error_dt2', derr_theta2), \"C99\", \"error_derivatives\", header=False, empty=False)\n",
    "# [(c_name, c_code), (h_name, c_header)] = codegen(('error_dr2', derr_rho2),   \"C99\", \"error_derivatives\", header=False, empty=False)\n",
    "\n",
    "with open(c_name,'a+') as c_file:\n",
    "    c_file.write(c_code)\n",
    "with open(h_name,'a+') as h_file:\n",
    "    h_file.write(c_header)\n"
   ]
  },
  {
   "cell_type": "code",
   "execution_count": 13,
   "metadata": {},
   "outputs": [
    {
     "data": {
      "text/latex": [
       "$\\displaystyle \\omega_{x} \\left(j_{y1} j_{z2} - j_{y2} j_{z1}\\right) + \\omega_{y} \\left(- j_{x1} j_{z2} + j_{x2} j_{z1}\\right) + \\omega_{z} \\left(j_{x1} j_{y2} - j_{x2} j_{y1}\\right)$"
      ],
      "text/plain": [
       "omega_x*(j_y1*j_z2 - j_y2*j_z1) + omega_y*(-j_x1*j_z2 + j_x2*j_z1) + omega_z*(j_x1*j_y2 - j_x2*j_y1)"
      ]
     },
     "execution_count": 13,
     "metadata": {},
     "output_type": "execute_result"
    }
   ],
   "source": [
    "# Declare symbols\n",
    "from sympy.abc import x,y,z\n",
    "jx1,jy1,jz1 = sympy.symbols('j_x1 j_y1 j_z1')\n",
    "jx2,jy2,jz2 = sympy.symbols('j_x2 j_y2 j_z2')\n",
    "omegaX,omegaY,omegaZ = sympy.symbols('omega_x omega_y omega_z')\n",
    "theta1,rho1,theta2,rho2 = sympy.symbols('theta_1 rho_1 theta_2 rho_2')\n",
    "\n",
    "# Rotation vectors\n",
    "j1 = sympy.Matrix([jx1, jy1, jz1 ])\n",
    "j2 = sympy.Matrix([jx2, jy2, jz2 ])\n",
    "\n",
    "# Relative angular velocity\n",
    "omegaR = sympy.Matrix([omegaX, omegaY, omegaZ ])\n",
    "\n",
    "# Error and derivatives compute\n",
    "error = omegaR.dot(j1.cross(j2))\n",
    "# derr_theta1 = sympy.diff(error,theta1)\n",
    "# derr_rho1   = sympy.diff(error,rho1)\n",
    "# derr_theta2 = sympy.diff(error,theta2)\n",
    "# derr_rho2   = sympy.diff(error,rho2)\n",
    "\n",
    "# J_col = c4,1, [\n",
    "#     derr_theta1, derr_rho1, derr_theta2, derr_rho2\n",
    "# ])\n",
    "# J_col\n",
    "error"
   ]
  },
  {
   "cell_type": "markdown",
   "metadata": {},
   "source": [
    "## Generate C code for spherical transformations"
   ]
  },
  {
   "cell_type": "code",
   "execution_count": 17,
   "metadata": {},
   "outputs": [],
   "source": [
    "from sympy.abc import x,y,z\n",
    "# atan2(sqrt(vector[0]*vector[0]+vector[1]*vector[1]) , vector[2]);\n",
    "sph_theta = sympy.atan2(sympy.sqrt(z**2 + y*y),x)\n",
    "sph_rho   = sympy.atan2(y,z)\n",
    "\n",
    "sph = sympy.Matrix(2,1, [\n",
    "    sph_theta, sph_rho\n",
    "])\n",
    "\n",
    "from sympy.utilities.codegen import codegen\n",
    "[(c_name, c_code), (h_name, c_header)] = codegen(('spherical', sph), \"C99\", \"spherical\", header=False, empty=False)\n",
    "with open(c_name,'a+') as c_file:\n",
    "    c_file.write(c_code)\n",
    "with open(h_name,'a+') as h_file:\n",
    "    h_file.write(c_header)"
   ]
  },
  {
   "cell_type": "markdown",
   "metadata": {},
   "source": [
    "## Generate C code for error and derivatives"
   ]
  },
  {
   "cell_type": "code",
   "execution_count": 18,
   "metadata": {},
   "outputs": [
    {
     "data": {
      "text/latex": [
       "$\\displaystyle \\left[\\begin{matrix}\\omega_{x} \\left(\\sin{\\left(\\rho_{1} \\right)} \\cos{\\left(\\theta_{1} \\right)} \\cos{\\left(\\theta_{2} \\right)} + \\sin{\\left(\\rho_{2} \\right)} \\sin{\\left(\\theta_{1} \\right)} \\sin{\\left(\\theta_{2} \\right)}\\right) + \\omega_{y} \\left(- \\sin{\\left(\\theta_{1} \\right)} \\sin{\\left(\\theta_{2} \\right)} \\cos{\\left(\\rho_{2} \\right)} - \\cos{\\left(\\rho_{1} \\right)} \\cos{\\left(\\theta_{1} \\right)} \\cos{\\left(\\theta_{2} \\right)}\\right) + \\omega_{z} \\left(- \\sin{\\left(\\rho_{1} \\right)} \\sin{\\left(\\theta_{2} \\right)} \\cos{\\left(\\rho_{2} \\right)} \\cos{\\left(\\theta_{1} \\right)} + \\sin{\\left(\\rho_{2} \\right)} \\sin{\\left(\\theta_{2} \\right)} \\cos{\\left(\\rho_{1} \\right)} \\cos{\\left(\\theta_{1} \\right)}\\right)\\\\\\omega_{x} \\sin{\\left(\\theta_{1} \\right)} \\cos{\\left(\\rho_{1} \\right)} \\cos{\\left(\\theta_{2} \\right)} + \\omega_{y} \\sin{\\left(\\rho_{1} \\right)} \\sin{\\left(\\theta_{1} \\right)} \\cos{\\left(\\theta_{2} \\right)} + \\omega_{z} \\left(- \\sin{\\left(\\rho_{1} \\right)} \\sin{\\left(\\rho_{2} \\right)} \\sin{\\left(\\theta_{1} \\right)} \\sin{\\left(\\theta_{2} \\right)} - \\sin{\\left(\\theta_{1} \\right)} \\sin{\\left(\\theta_{2} \\right)} \\cos{\\left(\\rho_{1} \\right)} \\cos{\\left(\\rho_{2} \\right)}\\right)\\\\\\omega_{x} \\left(- \\sin{\\left(\\rho_{1} \\right)} \\sin{\\left(\\theta_{1} \\right)} \\sin{\\left(\\theta_{2} \\right)} - \\sin{\\left(\\rho_{2} \\right)} \\cos{\\left(\\theta_{1} \\right)} \\cos{\\left(\\theta_{2} \\right)}\\right) + \\omega_{y} \\left(\\sin{\\left(\\theta_{1} \\right)} \\sin{\\left(\\theta_{2} \\right)} \\cos{\\left(\\rho_{1} \\right)} + \\cos{\\left(\\rho_{2} \\right)} \\cos{\\left(\\theta_{1} \\right)} \\cos{\\left(\\theta_{2} \\right)}\\right) + \\omega_{z} \\left(- \\sin{\\left(\\rho_{1} \\right)} \\sin{\\left(\\theta_{1} \\right)} \\cos{\\left(\\rho_{2} \\right)} \\cos{\\left(\\theta_{2} \\right)} + \\sin{\\left(\\rho_{2} \\right)} \\sin{\\left(\\theta_{1} \\right)} \\cos{\\left(\\rho_{1} \\right)} \\cos{\\left(\\theta_{2} \\right)}\\right)\\\\- \\omega_{x} \\sin{\\left(\\theta_{2} \\right)} \\cos{\\left(\\rho_{2} \\right)} \\cos{\\left(\\theta_{1} \\right)} - \\omega_{y} \\sin{\\left(\\rho_{2} \\right)} \\sin{\\left(\\theta_{2} \\right)} \\cos{\\left(\\theta_{1} \\right)} + \\omega_{z} \\left(\\sin{\\left(\\rho_{1} \\right)} \\sin{\\left(\\rho_{2} \\right)} \\sin{\\left(\\theta_{1} \\right)} \\sin{\\left(\\theta_{2} \\right)} + \\sin{\\left(\\theta_{1} \\right)} \\sin{\\left(\\theta_{2} \\right)} \\cos{\\left(\\rho_{1} \\right)} \\cos{\\left(\\rho_{2} \\right)}\\right)\\end{matrix}\\right]$"
      ],
      "text/plain": [
       "Matrix([\n",
       "[omega_x*(sin(rho_1)*cos(theta_1)*cos(theta_2) + sin(rho_2)*sin(theta_1)*sin(theta_2)) + omega_y*(-sin(theta_1)*sin(theta_2)*cos(rho_2) - cos(rho_1)*cos(theta_1)*cos(theta_2)) + omega_z*(-sin(rho_1)*sin(theta_2)*cos(rho_2)*cos(theta_1) + sin(rho_2)*sin(theta_2)*cos(rho_1)*cos(theta_1))],\n",
       "[                                                                                   omega_x*sin(theta_1)*cos(rho_1)*cos(theta_2) + omega_y*sin(rho_1)*sin(theta_1)*cos(theta_2) + omega_z*(-sin(rho_1)*sin(rho_2)*sin(theta_1)*sin(theta_2) - sin(theta_1)*sin(theta_2)*cos(rho_1)*cos(rho_2))],\n",
       "[omega_x*(-sin(rho_1)*sin(theta_1)*sin(theta_2) - sin(rho_2)*cos(theta_1)*cos(theta_2)) + omega_y*(sin(theta_1)*sin(theta_2)*cos(rho_1) + cos(rho_2)*cos(theta_1)*cos(theta_2)) + omega_z*(-sin(rho_1)*sin(theta_1)*cos(rho_2)*cos(theta_2) + sin(rho_2)*sin(theta_1)*cos(rho_1)*cos(theta_2))],\n",
       "[                                                                                   -omega_x*sin(theta_2)*cos(rho_2)*cos(theta_1) - omega_y*sin(rho_2)*sin(theta_2)*cos(theta_1) + omega_z*(sin(rho_1)*sin(rho_2)*sin(theta_1)*sin(theta_2) + sin(theta_1)*sin(theta_2)*cos(rho_1)*cos(rho_2))]])"
      ]
     },
     "execution_count": 18,
     "metadata": {},
     "output_type": "execute_result"
    }
   ],
   "source": [
    "theta1,rho1,theta2,rho2 = sympy.symbols('theta_1 rho_1 theta_2 rho_2')\n",
    "omegaX,omegaY,omegaZ = sympy.symbols('omega_x omega_y omega_z')\n",
    "\n",
    "j1 = sympy.Matrix([\n",
    "        sympy.sin(theta1)*sympy.cos(rho1),\n",
    "        sympy.sin(theta1)*sympy.sin(rho1),\n",
    "        sympy.cos(theta1)\n",
    "    ])\n",
    "j2 = sympy.Matrix([\n",
    "        sympy.sin(theta2)*sympy.cos(rho2),\n",
    "        sympy.sin(theta2)*sympy.sin(rho2),\n",
    "        sympy.cos(theta2)\n",
    "    ])\n",
    "omegaR = sympy.Matrix([omegaX, omegaY, omegaZ ])\n",
    "\n",
    "error = omegaR.dot(j1.cross(j2))\n",
    "derr_theta1 = sympy.diff(error,theta1)\n",
    "derr_rho1   = sympy.diff(error,rho1)\n",
    "derr_theta2 = sympy.diff(error,theta2)\n",
    "derr_rho2   = sympy.diff(error,rho2)\n",
    "\n",
    "J_col = sympy.Matrix(4,1, [\n",
    "    derr_theta1, derr_rho1, derr_theta2, derr_rho2\n",
    "])\n",
    "\n",
    "\n",
    "[(c_name, c_code), (h_name, c_header)] = codegen(('error_derivatives_1', J_col), \"C99\", \"spherical\", header=False, empty=False)\n",
    "with open(c_name,'a+') as c_file:\n",
    "    c_file.write(c_code)\n",
    "with open(h_name,'a+') as h_file:\n",
    "    h_file.write(c_header)\n",
    "\n",
    "j1 = sympy.Matrix([\n",
    "        sympy.cos(theta1),\n",
    "        sympy.sin(theta1)*sympy.sin(rho1),\n",
    "        sympy.sin(theta1)*sympy.cos(rho1)\n",
    "    ])\n",
    "j2 = sympy.Matrix([\n",
    "        sympy.cos(theta2),\n",
    "        sympy.sin(theta2)*sympy.sin(rho2),\n",
    "        sympy.sin(theta2)*sympy.cos(rho2)\n",
    "    ])\n",
    "omegaR = sympy.Matrix([omegaX, omegaY, omegaZ ])\n",
    "\n",
    "error = omegaR.dot(j1.cross(j2))\n",
    "derr_theta1 = sympy.diff(error,theta1)\n",
    "derr_rho1   = sympy.diff(error,rho1)\n",
    "derr_theta2 = sympy.diff(error,theta2)\n",
    "derr_rho2   = sympy.diff(error,rho2)\n",
    "\n",
    "J_col = sympy.Matrix(4,1, [\n",
    "    derr_theta1, derr_rho1, derr_theta2, derr_rho2\n",
    "])\n",
    "\n",
    "[(c_name, c_code), (h_name, c_header)] = codegen(('error_derivatives_2', J_col), \"C99\", \"spherical\", header=False, empty=False)\n",
    "with open(c_name,'a+') as c_file:\n",
    "    c_file.write(c_code)\n",
    "with open(h_name,'a+') as h_file:\n",
    "    h_file.write(c_header)"
   ]
  }
 ],
 "metadata": {
  "kernelspec": {
   "display_name": "Python 3.7.5 64-bit",
   "language": "python",
   "name": "python3"
  },
  "language_info": {
   "codemirror_mode": {
    "name": "ipython",
    "version": 3
   },
   "file_extension": ".py",
   "mimetype": "text/x-python",
   "name": "python",
   "nbconvert_exporter": "python",
   "pygments_lexer": "ipython3",
   "version": "3.7.5"
  },
  "orig_nbformat": 4,
  "vscode": {
   "interpreter": {
    "hash": "aa4fe81122d0b0b4f35d0a316418225d03ec57f2d02ee80072063e16265dbb62"
   }
  }
 },
 "nbformat": 4,
 "nbformat_minor": 2
}
