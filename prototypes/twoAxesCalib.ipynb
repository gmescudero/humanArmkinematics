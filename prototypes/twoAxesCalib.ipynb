{
 "cells": [
  {
   "cell_type": "code",
   "execution_count": null,
   "metadata": {},
   "outputs": [],
   "source": [
    "import os\n",
    "import matplotlib.pyplot as plt\n",
    "import numpy as np\n",
    "import pandas as pd\n",
    "import quaternion\n",
    "import sympy\n",
    "from sympy.abc import x,y,z\n",
    "from sympy.utilities.codegen import codegen"
   ]
  },
  {
   "cell_type": "code",
   "execution_count": null,
   "metadata": {},
   "outputs": [],
   "source": [
    "# path = \"../data/tst_cal_005.csv\"\n",
    "# path = \"../test/tst_data/data5_tst_cal_004_onArmArbitraryMotions.csv\"\n",
    "# path = \"../test/tst_data/data6_tst_cal_004_onArmArbitraryMotions.csv\"\n",
    "path = \"../test/tst_data/data7_tst_cal_004_onArmArbitraryMotions.csv\"\n",
    "df = pd.read_csv(path)\n",
    "\n",
    "# df.head(0)\n",
    "\n",
    "class Observation:\n",
    "    def __init__(self,omega1,omega2,q1,q2) -> None:\n",
    "        self.qR     = q1.conj() * q2\n",
    "        self.omegaR = quaternion.rotate_vectors(self.qR,omega2) - omega1\n",
    "\n",
    "obs = []\n",
    "\n",
    "for i,row in df.iterrows():\n",
    "    ## Retrieve data from csv file\n",
    "    omega1 = np.array([ row['IMU_GYROSCOPE(0)_0'], row['IMU_GYROSCOPE(0)_1'], row['IMU_GYROSCOPE(0)_2']] )\n",
    "    omega2 = np.array([ row['IMU_GYROSCOPE(1)_0'], row['IMU_GYROSCOPE(1)_1'], row['IMU_GYROSCOPE(1)_2']] )\n",
    "    q1 = np.quaternion(row['IMU_QUATERNION(0)_0'], row['IMU_QUATERNION(0)_1'], row['IMU_QUATERNION(0)_2'], row['IMU_QUATERNION(0)_3'])\n",
    "    q2 = np.quaternion(row['IMU_QUATERNION(1)_0'], row['IMU_QUATERNION(1)_1'], row['IMU_QUATERNION(1)_2'], row['IMU_QUATERNION(1)_3'])\n",
    "    ## Add observation to buffer\n",
    "    obs.append(Observation(omega1,omega2,q1,q2))"
   ]
  },
  {
   "cell_type": "markdown",
   "metadata": {},
   "source": [
    "## Define equations"
   ]
  },
  {
   "cell_type": "code",
   "execution_count": null,
   "metadata": {},
   "outputs": [],
   "source": [
    "theta1,rho1,theta2,rho2 = sympy.symbols('theta_1 rho_1 theta_2 rho_2')\n",
    "j1 = sympy.Matrix([\n",
    "        sympy.sin(theta1)*sympy.cos(rho1),\n",
    "        sympy.sin(theta1)*sympy.sin(rho1),\n",
    "        sympy.cos(theta1)\n",
    "    ])\n",
    "j2 = sympy.Matrix([\n",
    "        sympy.sin(theta2)*sympy.cos(rho2),\n",
    "        sympy.sin(theta2)*sympy.sin(rho2),\n",
    "        sympy.cos(theta2)\n",
    "    ])\n",
    "omegaX,omegaY,omegaZ = sympy.symbols('omega_x omega_y omega_z')\n",
    "omegaR = sympy.Matrix([omegaX, omegaY, omegaZ ])\n",
    "\n",
    "error_exp = omegaR.dot(j1.cross(j2)) + omegaR.dot(omegaR)*j1.dot(j2)\n",
    "derr_theta1_exp = sympy.diff(error_exp,theta1)\n",
    "derr_rho1_exp   = sympy.diff(error_exp,rho1)\n",
    "derr_theta2_exp = sympy.diff(error_exp,theta2)\n",
    "derr_rho2_exp   = sympy.diff(error_exp,rho2)\n",
    "\n",
    "J_col_exp = sympy.Matrix(4,1, [\n",
    "    derr_theta1_exp, derr_rho1_exp, derr_theta2_exp, derr_rho2_exp\n",
    "])\n",
    "J_col_exp"
   ]
  },
  {
   "cell_type": "markdown",
   "metadata": {},
   "source": [
    "### Compute lambda functions to be used by the algorithm"
   ]
  },
  {
   "cell_type": "code",
   "execution_count": null,
   "metadata": {},
   "outputs": [],
   "source": [
    "# Sympy symbols to be used as arguments of lambdas\n",
    "vars = [theta1,rho1,theta2,rho2,omegaX,omegaY,omegaZ]\n",
    "# Error lambda\n",
    "error = sympy.lambdify(vars, error_exp)\n",
    "# Error partials of each spherical coord. lambda\n",
    "J_col = sympy.lambdify(vars,J_col_exp)\n",
    "# Rotation vector lambda\n",
    "j_compute = sympy.lambdify([theta1,rho1],j1)"
   ]
  },
  {
   "cell_type": "markdown",
   "metadata": {},
   "source": [
    "## Agorithm"
   ]
  },
  {
   "cell_type": "code",
   "execution_count": null,
   "metadata": {},
   "outputs": [],
   "source": [
    "WINDOW_SIZE = 500\n",
    "ITERATIONS = 100"
   ]
  },
  {
   "cell_type": "code",
   "execution_count": null,
   "metadata": {},
   "outputs": [],
   "source": [
    "RMS = 0\n",
    "\n",
    "Jacobian     = np.zeros((WINDOW_SIZE,4))\n",
    "error_vector = np.zeros((WINDOW_SIZE,1))\n",
    "\n",
    "rand_ang = lambda: np.pi - 2*np.pi*np.random.random()\n",
    "phi = np.array([\n",
    "    [rand_ang()],\n",
    "    [rand_ang()],\n",
    "    [rand_ang()],\n",
    "    [rand_ang()]\n",
    "    ])\n",
    "\n",
    "j = WINDOW_SIZE\n",
    "ev = []\n",
    "while j < df.shape[0]:\n",
    "    for iteration in range(ITERATIONS):\n",
    "        for i in range(WINDOW_SIZE):\n",
    "            ## Calculate error\n",
    "            e = error(*phi,*obs[j-WINDOW_SIZE+i].omegaR)\n",
    "            ## Calculate jacobian\n",
    "            de = J_col(*phi,*obs[j-WINDOW_SIZE+i].omegaR)\n",
    "            ## Build error vector\n",
    "            error_vector[i] = e\n",
    "            ## Build jacobian\n",
    "            Jacobian[i] = np.transpose(de)\n",
    "\n",
    "        phi -= np.matmul( np.linalg.pinv(Jacobian), error_vector )\n",
    "        ev.append(error(*phi,*obs[j].omegaR))\n",
    "\n",
    "    RMS += error(*phi,*obs[j].omegaR) ** 2\n",
    "    j += WINDOW_SIZE\n",
    "\n",
    "RMS = np.sqrt(RMS)/WINDOW_SIZE\n",
    "phi"
   ]
  },
  {
   "cell_type": "code",
   "execution_count": null,
   "metadata": {},
   "outputs": [],
   "source": [
    "from matplotlib import pyplot as plt\n",
    "plt.plot(ev)"
   ]
  },
  {
   "cell_type": "code",
   "execution_count": null,
   "metadata": {},
   "outputs": [],
   "source": [
    "j_compute(phi[0],phi[1])"
   ]
  },
  {
   "cell_type": "code",
   "execution_count": null,
   "metadata": {},
   "outputs": [],
   "source": [
    "j_compute(phi[2],phi[3])"
   ]
  },
  {
   "cell_type": "code",
   "execution_count": null,
   "metadata": {},
   "outputs": [],
   "source": [
    "print(f\"check for singularities: {np.sin(phi[0])} and {np.sin(phi[2])}\")"
   ]
  }
 ],
 "metadata": {
  "kernelspec": {
   "display_name": "Python 3.8.10 64-bit",
   "language": "python",
   "name": "python3"
  },
  "language_info": {
   "codemirror_mode": {
    "name": "ipython",
    "version": 3
   },
   "file_extension": ".py",
   "mimetype": "text/x-python",
   "name": "python",
   "nbconvert_exporter": "python",
   "pygments_lexer": "ipython3",
   "version": "3.8.10"
  },
  "orig_nbformat": 4,
  "vscode": {
   "interpreter": {
    "hash": "916dbcbb3f70747c44a77c7bcd40155683ae19c65e1c03b4aa3499c5328201f1"
   }
  }
 },
 "nbformat": 4,
 "nbformat_minor": 2
}
