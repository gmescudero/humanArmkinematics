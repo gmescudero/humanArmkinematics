{
 "cells": [
  {
   "cell_type": "code",
   "execution_count": 2,
   "metadata": {},
   "outputs": [],
   "source": [
    "import os\n",
    "import matplotlib.pyplot as plt\n",
    "import numpy as np\n",
    "import pandas as pd\n",
    "import quaternion\n",
    "import sympy\n",
    "from sympy.abc import x,y,z\n",
    "from sympy.utilities.codegen import codegen"
   ]
  },
  {
   "cell_type": "code",
   "execution_count": 3,
   "metadata": {},
   "outputs": [],
   "source": [
    "# path = \"../data/tst_cal_005.csv\"\n",
    "# path = \"../test/tst_data/data5_tst_cal_004_onArmArbitraryMotions.csv\"\n",
    "# path = \"../test/tst_data/data6_tst_cal_004_onArmArbitraryMotions.csv\"\n",
    "path = \"../test/tst_data/data7_tst_cal_004_onArmArbitraryMotions.csv\"\n",
    "df = pd.read_csv(path)\n",
    "\n",
    "# df.head(0)\n",
    "\n",
    "class Observation:\n",
    "    def __init__(self,omega1,omega2,q1,q2) -> None:\n",
    "        self.qR     = q1.conj() * q2\n",
    "        self.omegaR = quaternion.rotate_vectors(self.qR,omega2) - omega1\n",
    "\n",
    "obs = []\n",
    "obs_num = df.shape[0]\n",
    "\n",
    "for i,row in df.iterrows():\n",
    "    ## Retrieve data from csv file\n",
    "    omega1 = np.array([ row['IMU_GYROSCOPE(0)_0'], row['IMU_GYROSCOPE(0)_1'], row['IMU_GYROSCOPE(0)_2']] )\n",
    "    omega2 = np.array([ row['IMU_GYROSCOPE(1)_0'], row['IMU_GYROSCOPE(1)_1'], row['IMU_GYROSCOPE(1)_2']] )\n",
    "    q1 = np.quaternion(row['IMU_QUATERNION(0)_0'], row['IMU_QUATERNION(0)_1'], row['IMU_QUATERNION(0)_2'], row['IMU_QUATERNION(0)_3'])\n",
    "    q2 = np.quaternion(row['IMU_QUATERNION(1)_0'], row['IMU_QUATERNION(1)_1'], row['IMU_QUATERNION(1)_2'], row['IMU_QUATERNION(1)_3'])\n",
    "    ## Add observation to buffer\n",
    "    obs.append(Observation(omega1,omega2,q1,q2))"
   ]
  },
  {
   "cell_type": "markdown",
   "metadata": {},
   "source": [
    "## Define equations"
   ]
  },
  {
   "cell_type": "code",
   "execution_count": 4,
   "metadata": {},
   "outputs": [
    {
     "data": {
      "text/latex": [
       "$\\displaystyle \\frac{\\omega_{x} \\left(\\sin{\\left(\\rho_{1} \\right)} \\sin{\\left(\\theta_{1} \\right)} \\cos{\\left(\\theta_{2} \\right)} - \\sin{\\left(\\rho_{2} \\right)} \\sin{\\left(\\theta_{2} \\right)} \\cos{\\left(\\theta_{1} \\right)}\\right) - \\omega_{y} \\left(\\sin{\\left(\\theta_{1} \\right)} \\cos{\\left(\\rho_{1} \\right)} \\cos{\\left(\\theta_{2} \\right)} - \\sin{\\left(\\theta_{2} \\right)} \\cos{\\left(\\rho_{2} \\right)} \\cos{\\left(\\theta_{1} \\right)}\\right) - \\omega_{z} \\sin{\\left(\\theta_{1} \\right)} \\sin{\\left(\\theta_{2} \\right)} \\sin{\\left(\\rho_{1} - \\rho_{2} \\right)}}{\\sqrt{\\left(\\sin{\\left(\\rho_{1} \\right)} \\sin{\\left(\\theta_{1} \\right)} \\cos{\\left(\\theta_{2} \\right)} - \\sin{\\left(\\rho_{2} \\right)} \\sin{\\left(\\theta_{2} \\right)} \\cos{\\left(\\theta_{1} \\right)}\\right)^{2} + \\left(\\sin{\\left(\\theta_{1} \\right)} \\cos{\\left(\\rho_{1} \\right)} \\cos{\\left(\\theta_{2} \\right)} - \\sin{\\left(\\theta_{2} \\right)} \\cos{\\left(\\rho_{2} \\right)} \\cos{\\left(\\theta_{1} \\right)}\\right)^{2} + \\sin^{2}{\\left(\\theta_{1} \\right)} \\sin^{2}{\\left(\\theta_{2} \\right)} \\sin^{2}{\\left(\\rho_{1} - \\rho_{2} \\right)}}}$"
      ],
      "text/plain": [
       "(omega_x*(sin(rho_1)*sin(theta_1)*cos(theta_2) - sin(rho_2)*sin(theta_2)*cos(theta_1)) - omega_y*(sin(theta_1)*cos(rho_1)*cos(theta_2) - sin(theta_2)*cos(rho_2)*cos(theta_1)) - omega_z*sin(theta_1)*sin(theta_2)*sin(rho_1 - rho_2))/sqrt((sin(rho_1)*sin(theta_1)*cos(theta_2) - sin(rho_2)*sin(theta_2)*cos(theta_1))**2 + (sin(theta_1)*cos(rho_1)*cos(theta_2) - sin(theta_2)*cos(rho_2)*cos(theta_1))**2 + sin(theta_1)**2*sin(theta_2)**2*sin(rho_1 - rho_2)**2)"
      ]
     },
     "execution_count": 4,
     "metadata": {},
     "output_type": "execute_result"
    }
   ],
   "source": [
    "theta1,rho1,theta2,rho2 = sympy.symbols('theta_1 rho_1 theta_2 rho_2')\n",
    "j1 = sympy.Matrix([\n",
    "        sympy.sin(theta1)*sympy.cos(rho1),\n",
    "        sympy.sin(theta1)*sympy.sin(rho1),\n",
    "        sympy.cos(theta1)\n",
    "    ])\n",
    "j2 = sympy.Matrix([\n",
    "        sympy.sin(theta2)*sympy.cos(rho2),\n",
    "        sympy.sin(theta2)*sympy.sin(rho2),\n",
    "        sympy.cos(theta2)\n",
    "    ])\n",
    "omegaX,omegaY,omegaZ = sympy.symbols('omega_x omega_y omega_z')\n",
    "omegaR = sympy.Matrix([omegaX, omegaY, omegaZ ])\n",
    "\n",
    "jn = j1.cross(j2)\n",
    "jn_norm = jn/(sympy.sqrt(jn.dot(jn)))\n",
    "error_exp = omegaR.dot(jn_norm)\n",
    "error_exp = sympy.simplify(error_exp)\n",
    "error_exp"
   ]
  },
  {
   "cell_type": "code",
   "execution_count": 5,
   "metadata": {},
   "outputs": [
    {
     "data": {
      "text/latex": [
       "$\\displaystyle \\left[\\begin{matrix}\\frac{\\frac{\\left(- \\omega_{x} \\left(\\sin{\\left(\\rho_{1} \\right)} \\sin{\\left(\\theta_{1} \\right)} \\cos{\\left(\\theta_{2} \\right)} - \\sin{\\left(\\rho_{2} \\right)} \\sin{\\left(\\theta_{2} \\right)} \\cos{\\left(\\theta_{1} \\right)}\\right) + \\omega_{y} \\left(\\sin{\\left(\\theta_{1} \\right)} \\cos{\\left(\\rho_{1} \\right)} \\cos{\\left(\\theta_{2} \\right)} - \\sin{\\left(\\theta_{2} \\right)} \\cos{\\left(\\rho_{2} \\right)} \\cos{\\left(\\theta_{1} \\right)}\\right) + \\omega_{z} \\sin{\\left(\\theta_{1} \\right)} \\sin{\\left(\\theta_{2} \\right)} \\sin{\\left(\\rho_{1} - \\rho_{2} \\right)}\\right) \\left(4 \\sin{\\left(2 \\theta_{1} \\right)} + 6 \\sin{\\left(2 \\theta_{1} - 2 \\theta_{2} \\right)} + 6 \\sin{\\left(2 \\theta_{1} + 2 \\theta_{2} \\right)} - 2 \\sin{\\left(- 2 \\rho_{1} + 2 \\rho_{2} + 2 \\theta_{1} \\right)} - 2 \\sin{\\left(2 \\rho_{1} - 2 \\rho_{2} + 2 \\theta_{1} \\right)} + \\sin{\\left(- 2 \\rho_{1} + 2 \\rho_{2} + 2 \\theta_{1} + 2 \\theta_{2} \\right)} - 4 \\sin{\\left(- \\rho_{1} + \\rho_{2} + 2 \\theta_{1} + 2 \\theta_{2} \\right)} - 4 \\sin{\\left(\\rho_{1} - \\rho_{2} - 2 \\theta_{1} + 2 \\theta_{2} \\right)} + 4 \\sin{\\left(\\rho_{1} - \\rho_{2} + 2 \\theta_{1} - 2 \\theta_{2} \\right)} - 4 \\sin{\\left(\\rho_{1} - \\rho_{2} + 2 \\theta_{1} + 2 \\theta_{2} \\right)} - \\sin{\\left(2 \\rho_{1} - 2 \\rho_{2} - 2 \\theta_{1} + 2 \\theta_{2} \\right)} + \\sin{\\left(2 \\rho_{1} - 2 \\rho_{2} + 2 \\theta_{1} - 2 \\theta_{2} \\right)} + \\sin{\\left(2 \\rho_{1} - 2 \\rho_{2} + 2 \\theta_{1} + 2 \\theta_{2} \\right)}\\right)}{32} + \\left(\\omega_{x} \\left(\\sin{\\left(\\rho_{1} \\right)} \\cos{\\left(\\theta_{1} \\right)} \\cos{\\left(\\theta_{2} \\right)} + \\sin{\\left(\\rho_{2} \\right)} \\sin{\\left(\\theta_{1} \\right)} \\sin{\\left(\\theta_{2} \\right)}\\right) - \\omega_{y} \\left(\\sin{\\left(\\theta_{1} \\right)} \\sin{\\left(\\theta_{2} \\right)} \\cos{\\left(\\rho_{2} \\right)} + \\cos{\\left(\\rho_{1} \\right)} \\cos{\\left(\\theta_{1} \\right)} \\cos{\\left(\\theta_{2} \\right)}\\right) - \\omega_{z} \\sin{\\left(\\theta_{2} \\right)} \\sin{\\left(\\rho_{1} - \\rho_{2} \\right)} \\cos{\\left(\\theta_{1} \\right)}\\right) \\left(\\left(\\sin{\\left(\\rho_{1} \\right)} \\sin{\\left(\\theta_{1} \\right)} \\cos{\\left(\\theta_{2} \\right)} - \\sin{\\left(\\rho_{2} \\right)} \\sin{\\left(\\theta_{2} \\right)} \\cos{\\left(\\theta_{1} \\right)}\\right)^{2} + \\left(\\sin{\\left(\\theta_{1} \\right)} \\cos{\\left(\\rho_{1} \\right)} \\cos{\\left(\\theta_{2} \\right)} - \\sin{\\left(\\theta_{2} \\right)} \\cos{\\left(\\rho_{2} \\right)} \\cos{\\left(\\theta_{1} \\right)}\\right)^{2} + \\sin^{2}{\\left(\\theta_{1} \\right)} \\sin^{2}{\\left(\\theta_{2} \\right)} \\sin^{2}{\\left(\\rho_{1} - \\rho_{2} \\right)}\\right)}{\\left(\\left(\\sin{\\left(\\rho_{1} \\right)} \\sin{\\left(\\theta_{1} \\right)} \\cos{\\left(\\theta_{2} \\right)} - \\sin{\\left(\\rho_{2} \\right)} \\sin{\\left(\\theta_{2} \\right)} \\cos{\\left(\\theta_{1} \\right)}\\right)^{2} + \\left(\\sin{\\left(\\theta_{1} \\right)} \\cos{\\left(\\rho_{1} \\right)} \\cos{\\left(\\theta_{2} \\right)} - \\sin{\\left(\\theta_{2} \\right)} \\cos{\\left(\\rho_{2} \\right)} \\cos{\\left(\\theta_{1} \\right)}\\right)^{2} + \\sin^{2}{\\left(\\theta_{1} \\right)} \\sin^{2}{\\left(\\theta_{2} \\right)} \\sin^{2}{\\left(\\rho_{1} - \\rho_{2} \\right)}\\right)^{\\frac{3}{2}}}\\\\\\frac{\\left(\\left(\\sin{\\left(\\theta_{1} \\right)} \\sin{\\left(\\theta_{2} \\right)} \\cos{\\left(\\rho_{1} - \\rho_{2} \\right)} + \\cos{\\left(\\theta_{1} \\right)} \\cos{\\left(\\theta_{2} \\right)}\\right) \\left(- \\omega_{x} \\left(\\sin{\\left(\\rho_{1} \\right)} \\sin{\\left(\\theta_{1} \\right)} \\cos{\\left(\\theta_{2} \\right)} - \\sin{\\left(\\rho_{2} \\right)} \\sin{\\left(\\theta_{2} \\right)} \\cos{\\left(\\theta_{1} \\right)}\\right) + \\omega_{y} \\left(\\sin{\\left(\\theta_{1} \\right)} \\cos{\\left(\\rho_{1} \\right)} \\cos{\\left(\\theta_{2} \\right)} - \\sin{\\left(\\theta_{2} \\right)} \\cos{\\left(\\rho_{2} \\right)} \\cos{\\left(\\theta_{1} \\right)}\\right) + \\omega_{z} \\sin{\\left(\\theta_{1} \\right)} \\sin{\\left(\\theta_{2} \\right)} \\sin{\\left(\\rho_{1} - \\rho_{2} \\right)}\\right) \\sin{\\left(\\theta_{2} \\right)} \\sin{\\left(\\rho_{1} - \\rho_{2} \\right)} + \\left(\\omega_{x} \\cos{\\left(\\rho_{1} \\right)} \\cos{\\left(\\theta_{2} \\right)} + \\omega_{y} \\sin{\\left(\\rho_{1} \\right)} \\cos{\\left(\\theta_{2} \\right)} - \\omega_{z} \\sin{\\left(\\theta_{2} \\right)} \\cos{\\left(\\rho_{1} - \\rho_{2} \\right)}\\right) \\left(\\left(\\sin{\\left(\\rho_{1} \\right)} \\sin{\\left(\\theta_{1} \\right)} \\cos{\\left(\\theta_{2} \\right)} - \\sin{\\left(\\rho_{2} \\right)} \\sin{\\left(\\theta_{2} \\right)} \\cos{\\left(\\theta_{1} \\right)}\\right)^{2} + \\left(\\sin{\\left(\\theta_{1} \\right)} \\cos{\\left(\\rho_{1} \\right)} \\cos{\\left(\\theta_{2} \\right)} - \\sin{\\left(\\theta_{2} \\right)} \\cos{\\left(\\rho_{2} \\right)} \\cos{\\left(\\theta_{1} \\right)}\\right)^{2} + \\sin^{2}{\\left(\\theta_{1} \\right)} \\sin^{2}{\\left(\\theta_{2} \\right)} \\sin^{2}{\\left(\\rho_{1} - \\rho_{2} \\right)}\\right)\\right) \\sin{\\left(\\theta_{1} \\right)}}{\\left(\\left(\\sin{\\left(\\rho_{1} \\right)} \\sin{\\left(\\theta_{1} \\right)} \\cos{\\left(\\theta_{2} \\right)} - \\sin{\\left(\\rho_{2} \\right)} \\sin{\\left(\\theta_{2} \\right)} \\cos{\\left(\\theta_{1} \\right)}\\right)^{2} + \\left(\\sin{\\left(\\theta_{1} \\right)} \\cos{\\left(\\rho_{1} \\right)} \\cos{\\left(\\theta_{2} \\right)} - \\sin{\\left(\\theta_{2} \\right)} \\cos{\\left(\\rho_{2} \\right)} \\cos{\\left(\\theta_{1} \\right)}\\right)^{2} + \\sin^{2}{\\left(\\theta_{1} \\right)} \\sin^{2}{\\left(\\theta_{2} \\right)} \\sin^{2}{\\left(\\rho_{1} - \\rho_{2} \\right)}\\right)^{\\frac{3}{2}}}\\\\\\frac{\\left(- \\omega_{x} \\left(\\sin{\\left(\\rho_{1} \\right)} \\sin{\\left(\\theta_{1} \\right)} \\sin{\\left(\\theta_{2} \\right)} + \\sin{\\left(\\rho_{2} \\right)} \\cos{\\left(\\theta_{1} \\right)} \\cos{\\left(\\theta_{2} \\right)}\\right) + \\omega_{y} \\left(\\sin{\\left(\\theta_{1} \\right)} \\sin{\\left(\\theta_{2} \\right)} \\cos{\\left(\\rho_{1} \\right)} + \\cos{\\left(\\rho_{2} \\right)} \\cos{\\left(\\theta_{1} \\right)} \\cos{\\left(\\theta_{2} \\right)}\\right) - \\omega_{z} \\sin{\\left(\\theta_{1} \\right)} \\sin{\\left(\\rho_{1} - \\rho_{2} \\right)} \\cos{\\left(\\theta_{2} \\right)}\\right) \\left(\\left(\\sin{\\left(\\rho_{1} \\right)} \\sin{\\left(\\theta_{1} \\right)} \\cos{\\left(\\theta_{2} \\right)} - \\sin{\\left(\\rho_{2} \\right)} \\sin{\\left(\\theta_{2} \\right)} \\cos{\\left(\\theta_{1} \\right)}\\right)^{2} + \\left(\\sin{\\left(\\theta_{1} \\right)} \\cos{\\left(\\rho_{1} \\right)} \\cos{\\left(\\theta_{2} \\right)} - \\sin{\\left(\\theta_{2} \\right)} \\cos{\\left(\\rho_{2} \\right)} \\cos{\\left(\\theta_{1} \\right)}\\right)^{2} + \\sin^{2}{\\left(\\theta_{1} \\right)} \\sin^{2}{\\left(\\theta_{2} \\right)} \\sin^{2}{\\left(\\rho_{1} - \\rho_{2} \\right)}\\right) - \\frac{\\left(- \\omega_{x} \\left(\\sin{\\left(\\rho_{1} \\right)} \\sin{\\left(\\theta_{1} \\right)} \\cos{\\left(\\theta_{2} \\right)} - \\sin{\\left(\\rho_{2} \\right)} \\sin{\\left(\\theta_{2} \\right)} \\cos{\\left(\\theta_{1} \\right)}\\right) + \\omega_{y} \\left(\\sin{\\left(\\theta_{1} \\right)} \\cos{\\left(\\rho_{1} \\right)} \\cos{\\left(\\theta_{2} \\right)} - \\sin{\\left(\\theta_{2} \\right)} \\cos{\\left(\\rho_{2} \\right)} \\cos{\\left(\\theta_{1} \\right)}\\right) + \\omega_{z} \\sin{\\left(\\theta_{1} \\right)} \\sin{\\left(\\theta_{2} \\right)} \\sin{\\left(\\rho_{1} - \\rho_{2} \\right)}\\right) \\left(- 4 \\sin{\\left(2 \\theta_{2} \\right)} + 6 \\sin{\\left(2 \\theta_{1} - 2 \\theta_{2} \\right)} - 6 \\sin{\\left(2 \\theta_{1} + 2 \\theta_{2} \\right)} + 2 \\sin{\\left(- 2 \\rho_{1} + 2 \\rho_{2} + 2 \\theta_{2} \\right)} + 2 \\sin{\\left(2 \\rho_{1} - 2 \\rho_{2} + 2 \\theta_{2} \\right)} - \\sin{\\left(- 2 \\rho_{1} + 2 \\rho_{2} + 2 \\theta_{1} + 2 \\theta_{2} \\right)} + 4 \\sin{\\left(- \\rho_{1} + \\rho_{2} + 2 \\theta_{1} + 2 \\theta_{2} \\right)} - 4 \\sin{\\left(\\rho_{1} - \\rho_{2} - 2 \\theta_{1} + 2 \\theta_{2} \\right)} + 4 \\sin{\\left(\\rho_{1} - \\rho_{2} + 2 \\theta_{1} - 2 \\theta_{2} \\right)} + 4 \\sin{\\left(\\rho_{1} - \\rho_{2} + 2 \\theta_{1} + 2 \\theta_{2} \\right)} - \\sin{\\left(2 \\rho_{1} - 2 \\rho_{2} - 2 \\theta_{1} + 2 \\theta_{2} \\right)} + \\sin{\\left(2 \\rho_{1} - 2 \\rho_{2} + 2 \\theta_{1} - 2 \\theta_{2} \\right)} - \\sin{\\left(2 \\rho_{1} - 2 \\rho_{2} + 2 \\theta_{1} + 2 \\theta_{2} \\right)}\\right)}{32}}{\\left(\\left(\\sin{\\left(\\rho_{1} \\right)} \\sin{\\left(\\theta_{1} \\right)} \\cos{\\left(\\theta_{2} \\right)} - \\sin{\\left(\\rho_{2} \\right)} \\sin{\\left(\\theta_{2} \\right)} \\cos{\\left(\\theta_{1} \\right)}\\right)^{2} + \\left(\\sin{\\left(\\theta_{1} \\right)} \\cos{\\left(\\rho_{1} \\right)} \\cos{\\left(\\theta_{2} \\right)} - \\sin{\\left(\\theta_{2} \\right)} \\cos{\\left(\\rho_{2} \\right)} \\cos{\\left(\\theta_{1} \\right)}\\right)^{2} + \\sin^{2}{\\left(\\theta_{1} \\right)} \\sin^{2}{\\left(\\theta_{2} \\right)} \\sin^{2}{\\left(\\rho_{1} - \\rho_{2} \\right)}\\right)^{\\frac{3}{2}}}\\\\\\frac{\\left(- \\left(\\sin{\\left(\\theta_{1} \\right)} \\sin{\\left(\\theta_{2} \\right)} \\cos{\\left(\\rho_{1} - \\rho_{2} \\right)} + \\cos{\\left(\\theta_{1} \\right)} \\cos{\\left(\\theta_{2} \\right)}\\right) \\left(- \\omega_{x} \\left(\\sin{\\left(\\rho_{1} \\right)} \\sin{\\left(\\theta_{1} \\right)} \\cos{\\left(\\theta_{2} \\right)} - \\sin{\\left(\\rho_{2} \\right)} \\sin{\\left(\\theta_{2} \\right)} \\cos{\\left(\\theta_{1} \\right)}\\right) + \\omega_{y} \\left(\\sin{\\left(\\theta_{1} \\right)} \\cos{\\left(\\rho_{1} \\right)} \\cos{\\left(\\theta_{2} \\right)} - \\sin{\\left(\\theta_{2} \\right)} \\cos{\\left(\\rho_{2} \\right)} \\cos{\\left(\\theta_{1} \\right)}\\right) + \\omega_{z} \\sin{\\left(\\theta_{1} \\right)} \\sin{\\left(\\theta_{2} \\right)} \\sin{\\left(\\rho_{1} - \\rho_{2} \\right)}\\right) \\sin{\\left(\\theta_{1} \\right)} \\sin{\\left(\\rho_{1} - \\rho_{2} \\right)} + \\left(- \\omega_{x} \\cos{\\left(\\rho_{2} \\right)} \\cos{\\left(\\theta_{1} \\right)} - \\omega_{y} \\sin{\\left(\\rho_{2} \\right)} \\cos{\\left(\\theta_{1} \\right)} + \\omega_{z} \\sin{\\left(\\theta_{1} \\right)} \\cos{\\left(\\rho_{1} - \\rho_{2} \\right)}\\right) \\left(\\left(\\sin{\\left(\\rho_{1} \\right)} \\sin{\\left(\\theta_{1} \\right)} \\cos{\\left(\\theta_{2} \\right)} - \\sin{\\left(\\rho_{2} \\right)} \\sin{\\left(\\theta_{2} \\right)} \\cos{\\left(\\theta_{1} \\right)}\\right)^{2} + \\left(\\sin{\\left(\\theta_{1} \\right)} \\cos{\\left(\\rho_{1} \\right)} \\cos{\\left(\\theta_{2} \\right)} - \\sin{\\left(\\theta_{2} \\right)} \\cos{\\left(\\rho_{2} \\right)} \\cos{\\left(\\theta_{1} \\right)}\\right)^{2} + \\sin^{2}{\\left(\\theta_{1} \\right)} \\sin^{2}{\\left(\\theta_{2} \\right)} \\sin^{2}{\\left(\\rho_{1} - \\rho_{2} \\right)}\\right)\\right) \\sin{\\left(\\theta_{2} \\right)}}{\\left(\\left(\\sin{\\left(\\rho_{1} \\right)} \\sin{\\left(\\theta_{1} \\right)} \\cos{\\left(\\theta_{2} \\right)} - \\sin{\\left(\\rho_{2} \\right)} \\sin{\\left(\\theta_{2} \\right)} \\cos{\\left(\\theta_{1} \\right)}\\right)^{2} + \\left(\\sin{\\left(\\theta_{1} \\right)} \\cos{\\left(\\rho_{1} \\right)} \\cos{\\left(\\theta_{2} \\right)} - \\sin{\\left(\\theta_{2} \\right)} \\cos{\\left(\\rho_{2} \\right)} \\cos{\\left(\\theta_{1} \\right)}\\right)^{2} + \\sin^{2}{\\left(\\theta_{1} \\right)} \\sin^{2}{\\left(\\theta_{2} \\right)} \\sin^{2}{\\left(\\rho_{1} - \\rho_{2} \\right)}\\right)^{\\frac{3}{2}}}\\end{matrix}\\right]$"
      ],
      "text/plain": [
       "Matrix([\n",
       "[  ((-omega_x*(sin(rho_1)*sin(theta_1)*cos(theta_2) - sin(rho_2)*sin(theta_2)*cos(theta_1)) + omega_y*(sin(theta_1)*cos(rho_1)*cos(theta_2) - sin(theta_2)*cos(rho_2)*cos(theta_1)) + omega_z*sin(theta_1)*sin(theta_2)*sin(rho_1 - rho_2))*(4*sin(2*theta_1) + 6*sin(2*theta_1 - 2*theta_2) + 6*sin(2*theta_1 + 2*theta_2) - 2*sin(-2*rho_1 + 2*rho_2 + 2*theta_1) - 2*sin(2*rho_1 - 2*rho_2 + 2*theta_1) + sin(-2*rho_1 + 2*rho_2 + 2*theta_1 + 2*theta_2) - 4*sin(-rho_1 + rho_2 + 2*theta_1 + 2*theta_2) - 4*sin(rho_1 - rho_2 - 2*theta_1 + 2*theta_2) + 4*sin(rho_1 - rho_2 + 2*theta_1 - 2*theta_2) - 4*sin(rho_1 - rho_2 + 2*theta_1 + 2*theta_2) - sin(2*rho_1 - 2*rho_2 - 2*theta_1 + 2*theta_2) + sin(2*rho_1 - 2*rho_2 + 2*theta_1 - 2*theta_2) + sin(2*rho_1 - 2*rho_2 + 2*theta_1 + 2*theta_2))/32 + (omega_x*(sin(rho_1)*cos(theta_1)*cos(theta_2) + sin(rho_2)*sin(theta_1)*sin(theta_2)) - omega_y*(sin(theta_1)*sin(theta_2)*cos(rho_2) + cos(rho_1)*cos(theta_1)*cos(theta_2)) - omega_z*sin(theta_2)*sin(rho_1 - rho_2)*cos(theta_1))*((sin(rho_1)*sin(theta_1)*cos(theta_2) - sin(rho_2)*sin(theta_2)*cos(theta_1))**2 + (sin(theta_1)*cos(rho_1)*cos(theta_2) - sin(theta_2)*cos(rho_2)*cos(theta_1))**2 + sin(theta_1)**2*sin(theta_2)**2*sin(rho_1 - rho_2)**2))/((sin(rho_1)*sin(theta_1)*cos(theta_2) - sin(rho_2)*sin(theta_2)*cos(theta_1))**2 + (sin(theta_1)*cos(rho_1)*cos(theta_2) - sin(theta_2)*cos(rho_2)*cos(theta_1))**2 + sin(theta_1)**2*sin(theta_2)**2*sin(rho_1 - rho_2)**2)**(3/2)],\n",
       "[                                                                                                                                                                                                                                                                                                                                                                                                                                                                                                                                                                        ((sin(theta_1)*sin(theta_2)*cos(rho_1 - rho_2) + cos(theta_1)*cos(theta_2))*(-omega_x*(sin(rho_1)*sin(theta_1)*cos(theta_2) - sin(rho_2)*sin(theta_2)*cos(theta_1)) + omega_y*(sin(theta_1)*cos(rho_1)*cos(theta_2) - sin(theta_2)*cos(rho_2)*cos(theta_1)) + omega_z*sin(theta_1)*sin(theta_2)*sin(rho_1 - rho_2))*sin(theta_2)*sin(rho_1 - rho_2) + (omega_x*cos(rho_1)*cos(theta_2) + omega_y*sin(rho_1)*cos(theta_2) - omega_z*sin(theta_2)*cos(rho_1 - rho_2))*((sin(rho_1)*sin(theta_1)*cos(theta_2) - sin(rho_2)*sin(theta_2)*cos(theta_1))**2 + (sin(theta_1)*cos(rho_1)*cos(theta_2) - sin(theta_2)*cos(rho_2)*cos(theta_1))**2 + sin(theta_1)**2*sin(theta_2)**2*sin(rho_1 - rho_2)**2))*sin(theta_1)/((sin(rho_1)*sin(theta_1)*cos(theta_2) - sin(rho_2)*sin(theta_2)*cos(theta_1))**2 + (sin(theta_1)*cos(rho_1)*cos(theta_2) - sin(theta_2)*cos(rho_2)*cos(theta_1))**2 + sin(theta_1)**2*sin(theta_2)**2*sin(rho_1 - rho_2)**2)**(3/2)],\n",
       "[((-omega_x*(sin(rho_1)*sin(theta_1)*sin(theta_2) + sin(rho_2)*cos(theta_1)*cos(theta_2)) + omega_y*(sin(theta_1)*sin(theta_2)*cos(rho_1) + cos(rho_2)*cos(theta_1)*cos(theta_2)) - omega_z*sin(theta_1)*sin(rho_1 - rho_2)*cos(theta_2))*((sin(rho_1)*sin(theta_1)*cos(theta_2) - sin(rho_2)*sin(theta_2)*cos(theta_1))**2 + (sin(theta_1)*cos(rho_1)*cos(theta_2) - sin(theta_2)*cos(rho_2)*cos(theta_1))**2 + sin(theta_1)**2*sin(theta_2)**2*sin(rho_1 - rho_2)**2) - (-omega_x*(sin(rho_1)*sin(theta_1)*cos(theta_2) - sin(rho_2)*sin(theta_2)*cos(theta_1)) + omega_y*(sin(theta_1)*cos(rho_1)*cos(theta_2) - sin(theta_2)*cos(rho_2)*cos(theta_1)) + omega_z*sin(theta_1)*sin(theta_2)*sin(rho_1 - rho_2))*(-4*sin(2*theta_2) + 6*sin(2*theta_1 - 2*theta_2) - 6*sin(2*theta_1 + 2*theta_2) + 2*sin(-2*rho_1 + 2*rho_2 + 2*theta_2) + 2*sin(2*rho_1 - 2*rho_2 + 2*theta_2) - sin(-2*rho_1 + 2*rho_2 + 2*theta_1 + 2*theta_2) + 4*sin(-rho_1 + rho_2 + 2*theta_1 + 2*theta_2) - 4*sin(rho_1 - rho_2 - 2*theta_1 + 2*theta_2) + 4*sin(rho_1 - rho_2 + 2*theta_1 - 2*theta_2) + 4*sin(rho_1 - rho_2 + 2*theta_1 + 2*theta_2) - sin(2*rho_1 - 2*rho_2 - 2*theta_1 + 2*theta_2) + sin(2*rho_1 - 2*rho_2 + 2*theta_1 - 2*theta_2) - sin(2*rho_1 - 2*rho_2 + 2*theta_1 + 2*theta_2))/32)/((sin(rho_1)*sin(theta_1)*cos(theta_2) - sin(rho_2)*sin(theta_2)*cos(theta_1))**2 + (sin(theta_1)*cos(rho_1)*cos(theta_2) - sin(theta_2)*cos(rho_2)*cos(theta_1))**2 + sin(theta_1)**2*sin(theta_2)**2*sin(rho_1 - rho_2)**2)**(3/2)],\n",
       "[                                                                                                                                                                                                                                                                                                                                                                                                                                                                                                                                                                      (-(sin(theta_1)*sin(theta_2)*cos(rho_1 - rho_2) + cos(theta_1)*cos(theta_2))*(-omega_x*(sin(rho_1)*sin(theta_1)*cos(theta_2) - sin(rho_2)*sin(theta_2)*cos(theta_1)) + omega_y*(sin(theta_1)*cos(rho_1)*cos(theta_2) - sin(theta_2)*cos(rho_2)*cos(theta_1)) + omega_z*sin(theta_1)*sin(theta_2)*sin(rho_1 - rho_2))*sin(theta_1)*sin(rho_1 - rho_2) + (-omega_x*cos(rho_2)*cos(theta_1) - omega_y*sin(rho_2)*cos(theta_1) + omega_z*sin(theta_1)*cos(rho_1 - rho_2))*((sin(rho_1)*sin(theta_1)*cos(theta_2) - sin(rho_2)*sin(theta_2)*cos(theta_1))**2 + (sin(theta_1)*cos(rho_1)*cos(theta_2) - sin(theta_2)*cos(rho_2)*cos(theta_1))**2 + sin(theta_1)**2*sin(theta_2)**2*sin(rho_1 - rho_2)**2))*sin(theta_2)/((sin(rho_1)*sin(theta_1)*cos(theta_2) - sin(rho_2)*sin(theta_2)*cos(theta_1))**2 + (sin(theta_1)*cos(rho_1)*cos(theta_2) - sin(theta_2)*cos(rho_2)*cos(theta_1))**2 + sin(theta_1)**2*sin(theta_2)**2*sin(rho_1 - rho_2)**2)**(3/2)]])"
      ]
     },
     "execution_count": 5,
     "metadata": {},
     "output_type": "execute_result"
    }
   ],
   "source": [
    "derr_theta1_exp = sympy.simplify(sympy.diff(error_exp,theta1))\n",
    "derr_rho1_exp   = sympy.simplify(sympy.diff(error_exp,rho1))\n",
    "derr_theta2_exp = sympy.simplify(sympy.diff(error_exp,theta2))\n",
    "derr_rho2_exp   = sympy.simplify(sympy.diff(error_exp,rho2))\n",
    "\n",
    "J_col_exp = sympy.Matrix(4,1, [\n",
    "    derr_theta1_exp, derr_rho1_exp, derr_theta2_exp, derr_rho2_exp\n",
    "])\n",
    "J_col_exp"
   ]
  },
  {
   "cell_type": "markdown",
   "metadata": {},
   "source": [
    "### Compute lambda functions to be used by the algorithm"
   ]
  },
  {
   "cell_type": "code",
   "execution_count": 6,
   "metadata": {},
   "outputs": [],
   "source": [
    "# Sympy symbols to be used as arguments of lambdas\n",
    "vars = [theta1,rho1,theta2,rho2,omegaX,omegaY,omegaZ]\n",
    "# Error lambda\n",
    "error = sympy.lambdify(vars, error_exp)\n",
    "# Error partials of each spherical coord. lambda\n",
    "J_col = sympy.lambdify(vars, J_col_exp)\n",
    "# Rotation vector lambda\n",
    "j_compute = sympy.lambdify([theta1,rho1], j1)"
   ]
  },
  {
   "cell_type": "markdown",
   "metadata": {},
   "source": [
    "## Agorithm"
   ]
  },
  {
   "cell_type": "code",
   "execution_count": 7,
   "metadata": {},
   "outputs": [],
   "source": [
    "WINDOW_SIZE = 500\n",
    "ITERATIONS = 100"
   ]
  },
  {
   "cell_type": "code",
   "execution_count": 13,
   "metadata": {},
   "outputs": [
    {
     "data": {
      "text/plain": [
       "array([[-0.68049126],\n",
       "       [-0.63094667],\n",
       "       [-2.15055088],\n",
       "       [ 2.9016571 ]])"
      ]
     },
     "execution_count": 13,
     "metadata": {},
     "output_type": "execute_result"
    }
   ],
   "source": [
    "\n",
    "Jacobian     = np.zeros((WINDOW_SIZE,4))\n",
    "error_vector = np.zeros((WINDOW_SIZE,1))\n",
    "\n",
    "rand_ang = lambda: np.pi - 2*np.pi*np.random.random()\n",
    "phi = np.array([\n",
    "    [rand_ang()],\n",
    "    [rand_ang()],\n",
    "    [rand_ang()],\n",
    "    [rand_ang()]\n",
    "    ])\n",
    "\n",
    "j = WINDOW_SIZE\n",
    "ev = []\n",
    "while j < obs_num:\n",
    "    for iteration in range(ITERATIONS):\n",
    "        sqr_e = 0\n",
    "        for i in range(WINDOW_SIZE):\n",
    "            ## Calculate error\n",
    "            e = error(*phi,*obs[j-WINDOW_SIZE+i].omegaR)\n",
    "            sqr_e = sqr_e + e**2\n",
    "            ## Calculate jacobian\n",
    "            de = J_col(*phi,*obs[j-WINDOW_SIZE+i].omegaR)\n",
    "            ## Build error vector\n",
    "            error_vector[i] = e\n",
    "            ## Build jacobian\n",
    "            Jacobian[i] = np.transpose(de)\n",
    "\n",
    "        ev.append(np.sqrt(sqr_e/WINDOW_SIZE))\n",
    "        if 4 < iteration and np.abs(ev[-2] - ev[-1]) < 1e-1: break\n",
    "        phi -= np.matmul( np.linalg.pinv(Jacobian), error_vector )\n",
    "\n",
    "    j += WINDOW_SIZE\n",
    "\n",
    "phi"
   ]
  },
  {
   "cell_type": "code",
   "execution_count": 14,
   "metadata": {},
   "outputs": [
    {
     "data": {
      "text/plain": [
       "[<matplotlib.lines.Line2D at 0x7fb4dfcff610>]"
      ]
     },
     "execution_count": 14,
     "metadata": {},
     "output_type": "execute_result"
    },
    {
     "data": {
      "image/png": "[encoded data removed]",
      "text/plain": [
       "<Figure size 432x288 with 1 Axes>"
      ]
     },
     "metadata": {
      "needs_background": "light"
     },
     "output_type": "display_data"
    }
   ],
   "source": [
    "from matplotlib import pyplot as plt\n",
    "plt.grid(True)\n",
    "plt.plot(ev)"
   ]
  },
  {
   "cell_type": "code",
   "execution_count": 15,
   "metadata": {},
   "outputs": [
    {
     "data": {
      "text/plain": [
       "array([[[-0.50803952]],\n",
       "\n",
       "       [[ 0.37115623]],\n",
       "\n",
       "       [[ 0.77726373]]])"
      ]
     },
     "execution_count": 15,
     "metadata": {},
     "output_type": "execute_result"
    }
   ],
   "source": [
    "j_compute(phi[0],phi[1])"
   ]
  },
  {
   "cell_type": "code",
   "execution_count": 16,
   "metadata": {},
   "outputs": [
    {
     "data": {
      "text/plain": [
       "array([[[ 0.81263138]],\n",
       "\n",
       "       [[-0.19880896]],\n",
       "\n",
       "       [[-0.54781862]]])"
      ]
     },
     "execution_count": 16,
     "metadata": {},
     "output_type": "execute_result"
    }
   ],
   "source": [
    "j_compute(phi[2],phi[3])"
   ]
  },
  {
   "cell_type": "code",
   "execution_count": 17,
   "metadata": {},
   "outputs": [
    {
     "name": "stdout",
     "output_type": "stream",
     "text": [
      "check for singularities: [-0.62917494] and [-0.83659713]\n"
     ]
    }
   ],
   "source": [
    "print(f\"check for singularities: {np.sin(phi[0])} and {np.sin(phi[2])}\")"
   ]
  }
 ],
 "metadata": {
  "kernelspec": {
   "display_name": "Python 3.8.10 64-bit",
   "language": "python",
   "name": "python3"
  },
  "language_info": {
   "codemirror_mode": {
    "name": "ipython",
    "version": 3
   },
   "file_extension": ".py",
   "mimetype": "text/x-python",
   "name": "python",
   "nbconvert_exporter": "python",
   "pygments_lexer": "ipython3",
   "version": "3.8.10"
  },
  "orig_nbformat": 4,
  "vscode": {
   "interpreter": {
    "hash": "916dbcbb3f70747c44a77c7bcd40155683ae19c65e1c03b4aa3499c5328201f1"
   }
  }
 },
 "nbformat": 4,
 "nbformat_minor": 2
}
