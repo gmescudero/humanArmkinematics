{
 "cells": [
  {
   "cell_type": "code",
   "execution_count": 25,
   "metadata": {},
   "outputs": [],
   "source": [
    "import os\n",
    "import matplotlib.pyplot as plt\n",
    "import numpy as np\n",
    "import pandas as pd\n",
    "import quaternion\n",
    "import sympy\n",
    "from sympy.abc import x,y,z\n",
    "from sympy.utilities.codegen import codegen"
   ]
  },
  {
   "cell_type": "markdown",
   "metadata": {},
   "source": [
    "## Manage files"
   ]
  },
  {
   "cell_type": "code",
   "execution_count": 26,
   "metadata": {},
   "outputs": [],
   "source": [
    "FILE_NAME = \"code_gen\"\n",
    "with open(FILE_NAME+\".c\",\"w\") as f:\n",
    "    pass"
   ]
  },
  {
   "cell_type": "markdown",
   "metadata": {},
   "source": [
    "## Generate C code for error"
   ]
  },
  {
   "cell_type": "code",
   "execution_count": 27,
   "metadata": {},
   "outputs": [
    {
     "data": {
      "text/latex": [
       "$\\displaystyle \\frac{\\omega_{x} \\left(\\sin{\\left(\\rho_{1} \\right)} \\sin{\\left(\\theta_{1} \\right)} \\cos{\\left(\\theta_{2} \\right)} - \\sin{\\left(\\rho_{2} \\right)} \\sin{\\left(\\theta_{2} \\right)} \\cos{\\left(\\theta_{1} \\right)}\\right) - \\omega_{y} \\left(\\sin{\\left(\\theta_{1} \\right)} \\cos{\\left(\\rho_{1} \\right)} \\cos{\\left(\\theta_{2} \\right)} - \\sin{\\left(\\theta_{2} \\right)} \\cos{\\left(\\rho_{2} \\right)} \\cos{\\left(\\theta_{1} \\right)}\\right) - \\omega_{z} \\sin{\\left(\\theta_{1} \\right)} \\sin{\\left(\\theta_{2} \\right)} \\sin{\\left(\\rho_{1} - \\rho_{2} \\right)}}{\\sqrt{\\left(\\sin{\\left(\\rho_{1} \\right)} \\sin{\\left(\\theta_{1} \\right)} \\cos{\\left(\\theta_{2} \\right)} - \\sin{\\left(\\rho_{2} \\right)} \\sin{\\left(\\theta_{2} \\right)} \\cos{\\left(\\theta_{1} \\right)}\\right)^{2} + \\left(\\sin{\\left(\\theta_{1} \\right)} \\cos{\\left(\\rho_{1} \\right)} \\cos{\\left(\\theta_{2} \\right)} - \\sin{\\left(\\theta_{2} \\right)} \\cos{\\left(\\rho_{2} \\right)} \\cos{\\left(\\theta_{1} \\right)}\\right)^{2} + \\sin^{2}{\\left(\\theta_{1} \\right)} \\sin^{2}{\\left(\\theta_{2} \\right)} \\sin^{2}{\\left(\\rho_{1} - \\rho_{2} \\right)}}}$"
      ],
      "text/plain": [
       "(omega_x*(sin(rho_1)*sin(theta_1)*cos(theta_2) - sin(rho_2)*sin(theta_2)*cos(theta_1)) - omega_y*(sin(theta_1)*cos(rho_1)*cos(theta_2) - sin(theta_2)*cos(rho_2)*cos(theta_1)) - omega_z*sin(theta_1)*sin(theta_2)*sin(rho_1 - rho_2))/sqrt((sin(rho_1)*sin(theta_1)*cos(theta_2) - sin(rho_2)*sin(theta_2)*cos(theta_1))**2 + (sin(theta_1)*cos(rho_1)*cos(theta_2) - sin(theta_2)*cos(rho_2)*cos(theta_1))**2 + sin(theta_1)**2*sin(theta_2)**2*sin(rho_1 - rho_2)**2)"
      ]
     },
     "execution_count": 27,
     "metadata": {},
     "output_type": "execute_result"
    }
   ],
   "source": [
    "from cmath import sqrt\n",
    "\n",
    "\n",
    "theta1,rho1,theta2,rho2 = sympy.symbols('theta_1 rho_1 theta_2 rho_2')\n",
    "j1 = sympy.Matrix([\n",
    "        sympy.sin(theta1)*sympy.cos(rho1),\n",
    "        sympy.sin(theta1)*sympy.sin(rho1),\n",
    "        sympy.cos(theta1)\n",
    "    ])\n",
    "j2 = sympy.Matrix([\n",
    "        sympy.sin(theta2)*sympy.cos(rho2),\n",
    "        sympy.sin(theta2)*sympy.sin(rho2),\n",
    "        sympy.cos(theta2)\n",
    "    ])\n",
    "omegaX,omegaY,omegaZ = sympy.symbols('omega_x omega_y omega_z')\n",
    "omegaR = sympy.Matrix([omegaX, omegaY, omegaZ ])\n",
    "\n",
    "jn = j1.cross(j2)\n",
    "jn_norm = jn/(sympy.sqrt(jn.dot(jn)))\n",
    "error = omegaR.dot(jn_norm)\n",
    "error = sympy.simplify(error)\n",
    "\n",
    "[(c_name, c_code), (h_name, c_header)] = codegen(('error_sph_11', error), \"C99\", FILE_NAME, header=False, empty=False)\n",
    "with open(c_name,'a+') as c_file:\n",
    "    c_file.write(c_code)\n",
    "\n",
    "error"
   ]
  },
  {
   "cell_type": "code",
   "execution_count": 28,
   "metadata": {},
   "outputs": [],
   "source": [
    "# Declare symbols\n",
    "jx1,jy1,jz1 = sympy.symbols('j_x1 j_y1 j_z1')\n",
    "jx2,jy2,jz2 = sympy.symbols('j_x2 j_y2 j_z2')\n",
    "omegaX,omegaY,omegaZ = sympy.symbols('omega_x omega_y omega_z')\n",
    "theta1,rho1,theta2,rho2 = sympy.symbols('theta_1 rho_1 theta_2 rho_2')\n",
    "\n",
    "# Rotation vectors\n",
    "j1 = sympy.Matrix([jx1, jy1, jz1 ])\n",
    "j2 = sympy.Matrix([jx2, jy2, jz2 ])\n",
    "\n",
    "# Relative angular velocity\n",
    "omegaR = sympy.Matrix([omegaX, omegaY, omegaZ ])\n",
    "\n",
    "# Error and derivatives compute\n",
    "error = omegaR.dot(j1.cross(j2))\n",
    "\n",
    "[(c_name, c_code), (h_name, c_header)] = codegen(('error_xyz', error), \"C99\", FILE_NAME, header=False, empty=False)\n",
    "with open(c_name,'a+') as c_file:\n",
    "    c_file.write(c_code)"
   ]
  },
  {
   "cell_type": "markdown",
   "metadata": {},
   "source": [
    "## Generate C code for spherical transformations"
   ]
  },
  {
   "cell_type": "markdown",
   "metadata": {},
   "source": [
    "### Vector to spherical"
   ]
  },
  {
   "cell_type": "code",
   "execution_count": 29,
   "metadata": {},
   "outputs": [],
   "source": [
    "# atan2(sqrt(vector[0]*vector[0]+vector[1]*vector[1]) , vector[2]);\n",
    "sph_theta = sympy.atan2(sympy.sqrt(x**2 + y**2),z)\n",
    "sph_rho   = sympy.atan2(y,x)\n",
    "sph = sympy.Matrix(2,1, [\n",
    "    sph_theta, sph_rho\n",
    "])\n",
    "\n",
    "[(c_name, c_code), (h_name, c_header)] = codegen(('spherical_1', sph), \"C99\", FILE_NAME, header=False, empty=False)\n",
    "with open(c_name,'a+') as c_file:\n",
    "    c_file.write(c_code)\n",
    "\n",
    "sph_theta = sympy.atan2(sympy.sqrt(z**2 + y*y),x)\n",
    "sph_rho   = sympy.atan2(y,z)\n",
    "sph = sympy.Matrix(2,1, [\n",
    "    sph_theta, sph_rho\n",
    "])\n",
    "\n",
    "[(c_name, c_code), (h_name, c_header)] = codegen(('spherical_2', sph), \"C99\", FILE_NAME, header=False, empty=False)\n",
    "with open(c_name,'a+') as c_file:\n",
    "    c_file.write(c_code)"
   ]
  },
  {
   "cell_type": "markdown",
   "metadata": {},
   "source": [
    "### Spherical to 3D vector"
   ]
  },
  {
   "cell_type": "code",
   "execution_count": 30,
   "metadata": {},
   "outputs": [],
   "source": [
    "theta1,rho1,theta2,rho2 = sympy.symbols('theta_1 rho_1 theta_2 rho_2')\n",
    "j1 = sympy.Matrix([\n",
    "        sympy.sin(theta1)*sympy.cos(rho1),\n",
    "        sympy.sin(theta1)*sympy.sin(rho1),\n",
    "        sympy.cos(theta1)\n",
    "    ])\n",
    "[(c_name, c_code), (h_name, c_header)] = codegen(('spherical_2_vec_1', j1), \"C99\", FILE_NAME, header=False, empty=False)\n",
    "with open(c_name,'a+') as c_file:\n",
    "    c_file.write(c_code)\n",
    "\n",
    "j1 = sympy.Matrix([\n",
    "        sympy.cos(theta1),\n",
    "        sympy.sin(theta1)*sympy.sin(rho1),\n",
    "        sympy.sin(theta1)*sympy.cos(rho1)\n",
    "    ])\n",
    "[(c_name, c_code), (h_name, c_header)] = codegen(('spherical_2_vec_2', j1), \"C99\", FILE_NAME, header=False, empty=False)\n",
    "with open(c_name,'a+') as c_file:\n",
    "    c_file.write(c_code)"
   ]
  },
  {
   "cell_type": "markdown",
   "metadata": {},
   "source": [
    "## Generate C code for error and derivatives"
   ]
  },
  {
   "cell_type": "code",
   "execution_count": 31,
   "metadata": {},
   "outputs": [],
   "source": [
    "theta1,rho1,theta2,rho2 = sympy.symbols('theta_1 rho_1 theta_2 rho_2')\n",
    "omegaX,omegaY,omegaZ = sympy.symbols('omega_x omega_y omega_z')\n",
    "\n",
    "j1 = sympy.Matrix([\n",
    "        sympy.sin(theta1)*sympy.cos(rho1),\n",
    "        sympy.sin(theta1)*sympy.sin(rho1),\n",
    "        sympy.cos(theta1)\n",
    "    ])\n",
    "j2 = sympy.Matrix([\n",
    "        sympy.sin(theta2)*sympy.cos(rho2),\n",
    "        sympy.sin(theta2)*sympy.sin(rho2),\n",
    "        sympy.cos(theta2)\n",
    "    ])\n",
    "omegaR = sympy.Matrix([omegaX, omegaY, omegaZ ])\n",
    "\n",
    "jn = j1.cross(j2)\n",
    "jn_norm = jn/(sympy.sqrt(jn.dot(jn)))\n",
    "error = omegaR.dot(jn_norm)\n",
    "error = sympy.simplify(error)\n",
    "derr_theta1 = sympy.diff(error,theta1)\n",
    "derr_rho1   = sympy.diff(error,rho1)\n",
    "derr_theta2 = sympy.diff(error,theta2)\n",
    "derr_rho2   = sympy.diff(error,rho2)\n",
    "\n",
    "J_col = sympy.Matrix(4,1, [\n",
    "    derr_theta1, derr_rho1, derr_theta2, derr_rho2\n",
    "])\n",
    "J_col = sympy.simplify(J_col)\n",
    "\n",
    "[(c_name, c_code), (h_name, c_header)] = codegen(('error_derivatives_11', J_col), \"C99\", FILE_NAME, header=False, empty=False)\n",
    "with open(c_name,'a+') as c_file:\n",
    "    c_file.write(c_code)"
   ]
  },
  {
   "cell_type": "code",
   "execution_count": 32,
   "metadata": {},
   "outputs": [],
   "source": [
    "theta1,rho1,theta2,rho2 = sympy.symbols('theta_1 rho_1 theta_2 rho_2')\n",
    "omegaX,omegaY,omegaZ = sympy.symbols('omega_x omega_y omega_z')\n",
    "\n",
    "j1 = sympy.Matrix([\n",
    "        sympy.cos(theta1),\n",
    "        sympy.sin(theta1)*sympy.sin(rho1),\n",
    "        sympy.sin(theta1)*sympy.cos(rho1)\n",
    "    ])\n",
    "j2 = sympy.Matrix([\n",
    "        sympy.sin(theta2)*sympy.cos(rho2),\n",
    "        sympy.sin(theta2)*sympy.sin(rho2),\n",
    "        sympy.cos(theta2)\n",
    "    ])\n",
    "omegaR = sympy.Matrix([omegaX, omegaY, omegaZ ])\n",
    "\n",
    "jn = j1.cross(j2)\n",
    "jn_norm = jn/(sympy.sqrt(jn.dot(jn)))\n",
    "error = omegaR.dot(jn_norm)\n",
    "error = sympy.simplify(error)\n",
    "derr_theta1 = sympy.diff(error,theta1)\n",
    "derr_rho1   = sympy.diff(error,rho1)\n",
    "derr_theta2 = sympy.diff(error,theta2)\n",
    "derr_rho2   = sympy.diff(error,rho2)\n",
    "\n",
    "J_col = sympy.Matrix(4,1, [\n",
    "    derr_theta1, derr_rho1, derr_theta2, derr_rho2\n",
    "])\n",
    "J_col = sympy.simplify(J_col)\n",
    "\n",
    "[(c_name, c_code), (h_name, c_header)] = codegen(('error_derivatives_21', J_col), \"C99\", FILE_NAME, header=False, empty=False)\n",
    "with open(c_name,'a+') as c_file:\n",
    "    c_file.write(c_code)"
   ]
  },
  {
   "cell_type": "code",
   "execution_count": 33,
   "metadata": {},
   "outputs": [],
   "source": [
    "theta1,rho1,theta2,rho2 = sympy.symbols('theta_1 rho_1 theta_2 rho_2')\n",
    "omegaX,omegaY,omegaZ = sympy.symbols('omega_x omega_y omega_z')\n",
    "\n",
    "j1 = sympy.Matrix([\n",
    "        sympy.sin(theta1)*sympy.cos(rho1),\n",
    "        sympy.sin(theta1)*sympy.sin(rho1),\n",
    "        sympy.cos(theta1)\n",
    "    ])\n",
    "j2 = sympy.Matrix([\n",
    "        sympy.cos(theta2),\n",
    "        sympy.sin(theta2)*sympy.sin(rho2),\n",
    "        sympy.sin(theta2)*sympy.cos(rho2)\n",
    "    ])\n",
    "omegaR = sympy.Matrix([omegaX, omegaY, omegaZ ])\n",
    "\n",
    "jn = j1.cross(j2)\n",
    "jn_norm = jn/(sympy.sqrt(jn.dot(jn)))\n",
    "error = omegaR.dot(jn_norm)\n",
    "error = sympy.simplify(error)\n",
    "derr_theta1 = sympy.diff(error,theta1)\n",
    "derr_rho1   = sympy.diff(error,rho1)\n",
    "derr_theta2 = sympy.diff(error,theta2)\n",
    "derr_rho2   = sympy.diff(error,rho2)\n",
    "\n",
    "J_col = sympy.Matrix(4,1, [\n",
    "    derr_theta1, derr_rho1, derr_theta2, derr_rho2\n",
    "])\n",
    "J_col = sympy.simplify(J_col)\n",
    "\n",
    "[(c_name, c_code), (h_name, c_header)] = codegen(('error_derivatives_12', J_col), \"C99\", FILE_NAME, header=False, empty=False)\n",
    "with open(c_name,'a+') as c_file:\n",
    "    c_file.write(c_code)"
   ]
  },
  {
   "cell_type": "code",
   "execution_count": 34,
   "metadata": {},
   "outputs": [],
   "source": [
    "theta1,rho1,theta2,rho2 = sympy.symbols('theta_1 rho_1 theta_2 rho_2')\n",
    "omegaX,omegaY,omegaZ = sympy.symbols('omega_x omega_y omega_z')\n",
    "\n",
    "j1 = sympy.Matrix([\n",
    "        sympy.cos(theta1),\n",
    "        sympy.sin(theta1)*sympy.sin(rho1),\n",
    "        sympy.sin(theta1)*sympy.cos(rho1)\n",
    "    ])\n",
    "j2 = sympy.Matrix([\n",
    "        sympy.cos(theta2),\n",
    "        sympy.sin(theta2)*sympy.sin(rho2),\n",
    "        sympy.sin(theta2)*sympy.cos(rho2)\n",
    "    ])\n",
    "omegaR = sympy.Matrix([omegaX, omegaY, omegaZ ])\n",
    "\n",
    "jn = j1.cross(j2)\n",
    "jn_norm = jn/(sympy.sqrt(jn.dot(jn)))\n",
    "error = omegaR.dot(jn_norm)\n",
    "error = sympy.simplify(error)\n",
    "derr_theta1 = sympy.diff(error,theta1)\n",
    "derr_rho1   = sympy.diff(error,rho1)\n",
    "derr_theta2 = sympy.diff(error,theta2)\n",
    "derr_rho2   = sympy.diff(error,rho2)\n",
    "\n",
    "J_col = sympy.Matrix(4,1, [\n",
    "    derr_theta1, derr_rho1, derr_theta2, derr_rho2\n",
    "])\n",
    "J_col = sympy.simplify(J_col)\n",
    "\n",
    "[(c_name, c_code), (h_name, c_header)] = codegen(('error_derivatives_22', J_col), \"C99\", FILE_NAME, header=False, empty=False)\n",
    "with open(c_name,'a+') as c_file:\n",
    "    c_file.write(c_code)"
   ]
  }
 ],
 "metadata": {
  "kernelspec": {
   "display_name": "Python 3.8.10 64-bit",
   "language": "python",
   "name": "python3"
  },
  "language_info": {
   "codemirror_mode": {
    "name": "ipython",
    "version": 3
   },
   "file_extension": ".py",
   "mimetype": "text/x-python",
   "name": "python",
   "nbconvert_exporter": "python",
   "pygments_lexer": "ipython3",
   "version": "3.8.10"
  },
  "orig_nbformat": 4,
  "vscode": {
   "interpreter": {
    "hash": "916dbcbb3f70747c44a77c7bcd40155683ae19c65e1c03b4aa3499c5328201f1"
   }
  }
 },
 "nbformat": 4,
 "nbformat_minor": 2
}
