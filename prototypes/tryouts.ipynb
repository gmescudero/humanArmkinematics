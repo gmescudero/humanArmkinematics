{
 "cells": [
  {
   "cell_type": "code",
   "execution_count": 1,
   "metadata": {},
   "outputs": [],
   "source": [
    "import numpy as np\n",
    "import pandas as pd\n",
    "import sympy"
   ]
  },
  {
   "cell_type": "markdown",
   "metadata": {},
   "source": [
    "## Random"
   ]
  },
  {
   "cell_type": "code",
   "execution_count": 2,
   "metadata": {},
   "outputs": [],
   "source": [
    "v = np.array([8,3,3])\n",
    "vt = np.transpose(v)"
   ]
  },
  {
   "cell_type": "code",
   "execution_count": 3,
   "metadata": {},
   "outputs": [
    {
     "data": {
      "text/plain": [
       "82"
      ]
     },
     "execution_count": 3,
     "metadata": {},
     "output_type": "execute_result"
    }
   ],
   "source": [
    "np.matmul(vt,v)"
   ]
  },
  {
   "cell_type": "code",
   "execution_count": 4,
   "metadata": {},
   "outputs": [
    {
     "data": {
      "text/plain": [
       "82"
      ]
     },
     "execution_count": 4,
     "metadata": {},
     "output_type": "execute_result"
    }
   ],
   "source": [
    "np.dot(v,v)"
   ]
  },
  {
   "cell_type": "code",
   "execution_count": 5,
   "metadata": {},
   "outputs": [
    {
     "data": {
      "text/plain": [
       "82"
      ]
     },
     "execution_count": 5,
     "metadata": {},
     "output_type": "execute_result"
    }
   ],
   "source": [
    "v[0]*v[0] + v[1]*v[1] + v[2]*v[2]"
   ]
  },
  {
   "cell_type": "markdown",
   "metadata": {},
   "source": [
    "## Math checks"
   ]
  },
  {
   "cell_type": "code",
   "execution_count": 6,
   "metadata": {},
   "outputs": [],
   "source": [
    "m = np.array([\n",
    "    [1, 2, 1, 3, 1, 4, 1, 50],\n",
    "    [1, 2, 2, 2, 3, 2, 4, 20],\n",
    "    [1, 2, 3, 4, 5, 6, 7, 80]\n",
    "])"
   ]
  },
  {
   "cell_type": "code",
   "execution_count": 7,
   "metadata": {},
   "outputs": [
    {
     "data": {
      "text/plain": [
       "array([[ 0.09540529,  0.12694315, -0.09150867],\n",
       "       [ 0.19081058,  0.2538863 , -0.18301734],\n",
       "       [ 0.00689826,  0.09634847, -0.02848114],\n",
       "       [ 0.12729426,  0.16814683, -0.12137359],\n",
       "       [-0.08160877,  0.06575378,  0.03454638],\n",
       "       [ 0.06377793,  0.08240737, -0.05972985],\n",
       "       [-0.1701158 ,  0.0351591 ,  0.09757391],\n",
       "       [ 0.00261611, -0.03332094,  0.01913889]])"
      ]
     },
     "execution_count": 7,
     "metadata": {},
     "output_type": "execute_result"
    }
   ],
   "source": [
    "np.linalg.pinv(m)"
   ]
  },
  {
   "cell_type": "code",
   "execution_count": 8,
   "metadata": {},
   "outputs": [],
   "source": [
    "# mt = np.transpose(m)\n",
    "# m_pinv = np.matmul(np.linalg.inv( np.matmul(mt,m) ), mt)\n",
    "# m_pinv"
   ]
  },
  {
   "cell_type": "code",
   "execution_count": 9,
   "metadata": {},
   "outputs": [
    {
     "data": {
      "text/plain": [
       "array([[  -7620,   -3147,  -12273],\n",
       "       [ -15240,   -6294,  -24546],\n",
       "       [ -16763,   -6940,  -27030],\n",
       "       [ -25888,  -10673,  -41685],\n",
       "       [ -25906,  -10733,  -41787],\n",
       "       [ -36536,  -15052,  -58824],\n",
       "       [ -35049,  -14526,  -56544],\n",
       "       [-471840, -194310, -759630]])"
      ]
     },
     "execution_count": 9,
     "metadata": {},
     "output_type": "execute_result"
    }
   ],
   "source": [
    "mt = np.transpose(m)\n",
    "m_pinv = np.matmul(mt, np.invert( np.matmul(m,mt) ))\n",
    "m_pinv"
   ]
  },
  {
   "cell_type": "code",
   "execution_count": 10,
   "metadata": {},
   "outputs": [
    {
     "data": {
      "text/plain": [
       "array([[ 0.15555556,  0.04444444],\n",
       "       [ 0.04444444,  0.15555556],\n",
       "       [ 0.22222222, -0.22222222]])"
      ]
     },
     "execution_count": 10,
     "metadata": {},
     "output_type": "execute_result"
    }
   ],
   "source": [
    "m = np.array([\n",
    "    [3,2,2],\n",
    "    [2,3,-2]\n",
    "])\n",
    "np.linalg.pinv(m)"
   ]
  },
  {
   "cell_type": "markdown",
   "metadata": {},
   "source": [
    "## Coordenadas esféricas"
   ]
  },
  {
   "cell_type": "code",
   "execution_count": 11,
   "metadata": {},
   "outputs": [
    {
     "name": "stdout",
     "output_type": "stream",
     "text": [
      "theta: 0.0, rho: 0.0\n"
     ]
    }
   ],
   "source": [
    "v = [1,0,0]\n",
    "\n",
    "\n",
    "theta = np.arctan2(np.linalg.norm((v[1],v[2])),v[0])\n",
    "rho = np.arctan2(v[1], v[2])\n",
    "print(f\"theta: {theta}, rho: {rho}\")"
   ]
  },
  {
   "cell_type": "markdown",
   "metadata": {},
   "source": [
    "## Quaternions"
   ]
  },
  {
   "cell_type": "code",
   "execution_count": 12,
   "metadata": {},
   "outputs": [
    {
     "ename": "ModuleNotFoundError",
     "evalue": "No module named 'quaternion'",
     "output_type": "error",
     "traceback": [
      "\u001b[0;31m---------------------------------------------------------------------------\u001b[0m",
      "\u001b[0;31mModuleNotFoundError\u001b[0m                       Traceback (most recent call last)",
      "\u001b[0;32m<ipython-input-12-11b7006ada1a>\u001b[0m in \u001b[0;36m<module>\u001b[0;34m\u001b[0m\n\u001b[0;32m----> 1\u001b[0;31m \u001b[0;32mimport\u001b[0m \u001b[0mquaternion\u001b[0m\u001b[0;34m\u001b[0m\u001b[0;34m\u001b[0m\u001b[0m\n\u001b[0m\u001b[1;32m      2\u001b[0m \u001b[0;31m# q1 = np.quaternion(1,0,0,0)\u001b[0m\u001b[0;34m\u001b[0m\u001b[0;34m\u001b[0m\u001b[0;34m\u001b[0m\u001b[0m\n\u001b[1;32m      3\u001b[0m \u001b[0;31m# q2 = quaternion.from_euler_angles(np.pi,0,0)\u001b[0m\u001b[0;34m\u001b[0m\u001b[0;34m\u001b[0m\u001b[0;34m\u001b[0m\u001b[0m\n\u001b[1;32m      4\u001b[0m \u001b[0;31m# q3 = quaternion.from_euler_angles(np.pi,0,np.pi/3)\u001b[0m\u001b[0;34m\u001b[0m\u001b[0;34m\u001b[0m\u001b[0;34m\u001b[0m\u001b[0m\n\u001b[1;32m      5\u001b[0m \u001b[0;34m\u001b[0m\u001b[0m\n",
      "\u001b[0;31mModuleNotFoundError\u001b[0m: No module named 'quaternion'"
     ]
    }
   ],
   "source": [
    "import quaternion\n",
    "# q1 = np.quaternion(1,0,0,0)\n",
    "# q2 = quaternion.from_euler_angles(np.pi,0,0)\n",
    "# q3 = quaternion.from_euler_angles(np.pi,0,np.pi/3)\n",
    "\n",
    "# print(q2)\n",
    "# print(q3)\n",
    "# print(q2.conj())\n",
    "# print(q2.conj()*q3)\n",
    "# q_aux = q2.conj()*q3\n",
    "# print((180/np.pi)*quaternion.as_rotation_vector(q_aux))\n",
    "\n",
    "q_g_sp  = quaternion.from_euler_angles(0,0, -np.pi/12) # -15 degrees\n",
    "q_sp_bp = quaternion.from_euler_angles(0,0, -np.pi/6)  # -30 degrees\n",
    "q_g_b   = quaternion.from_euler_angles(0,0, -np.pi/2)  # -90 degrees\n",
    "\n",
    "# Compute nonzero sensor to nonzero body\n",
    "q_g_bp = q_g_sp*q_sp_bp\n",
    "# Compute nonzero body to expected body at zero\n",
    "q_bp_b = q_g_bp.conj()*q_g_b\n",
    "# Compute nonzero sensor to zero body\n",
    "q_zero = q_bp_b*q_sp_bp\n",
    "\n",
    "quaternion.as_rotation_vector( q_zero )*180/np.pi\n",
    "q_zero"
   ]
  },
  {
   "cell_type": "code",
   "execution_count": null,
   "metadata": {},
   "outputs": [
    {
     "data": {
      "text/plain": [
       "array([   0.,    0., -120.])"
      ]
     },
     "execution_count": 45,
     "metadata": {},
     "output_type": "execute_result"
    }
   ],
   "source": [
    "q_g_sp_new = quaternion.from_euler_angles(0,0, -np.pi/4)\n",
    "\n",
    "quaternion.as_rotation_vector( q_zero*q_g_sp_new )*180/np.pi\n"
   ]
  },
  {
   "cell_type": "code",
   "execution_count": null,
   "metadata": {},
   "outputs": [
    {
     "data": {
      "text/latex": [
       "$\\displaystyle \\left(\\sin{\\left(\\frac{x}{2} \\right)} \\sin{\\left(\\frac{y}{2} \\right)} \\sin{\\left(\\frac{z}{2} \\right)} + \\cos{\\left(\\frac{x}{2} \\right)} \\cos{\\left(\\frac{y}{2} \\right)} \\cos{\\left(\\frac{z}{2} \\right)}\\right) + \\left(\\sin{\\left(\\frac{x}{2} \\right)} \\cos{\\left(\\frac{y}{2} \\right)} \\cos{\\left(\\frac{z}{2} \\right)} + \\sin{\\left(\\frac{y}{2} \\right)} \\sin{\\left(\\frac{z}{2} \\right)} \\cos{\\left(\\frac{x}{2} \\right)}\\right) i + \\left(- \\sin{\\left(\\frac{x}{2} \\right)} \\sin{\\left(\\frac{z}{2} \\right)} \\cos{\\left(\\frac{y}{2} \\right)} + \\sin{\\left(\\frac{y}{2} \\right)} \\cos{\\left(\\frac{x}{2} \\right)} \\cos{\\left(\\frac{z}{2} \\right)}\\right) j + \\left(- \\sin{\\left(\\frac{x}{2} \\right)} \\sin{\\left(\\frac{y}{2} \\right)} \\cos{\\left(\\frac{z}{2} \\right)} + \\sin{\\left(\\frac{z}{2} \\right)} \\cos{\\left(\\frac{x}{2} \\right)} \\cos{\\left(\\frac{y}{2} \\right)}\\right) k$"
      ],
      "text/plain": [
       "(sin(x/2)*sin(y/2)*sin(z/2) + cos(x/2)*cos(y/2)*cos(z/2)) + (sin(x/2)*cos(y/2)*cos(z/2) + sin(y/2)*sin(z/2)*cos(x/2))*i + (-sin(x/2)*sin(z/2)*cos(y/2) + sin(y/2)*cos(x/2)*cos(z/2))*j + (-sin(x/2)*sin(y/2)*cos(z/2) + sin(z/2)*cos(x/2)*cos(y/2))*k"
      ]
     },
     "execution_count": 46,
     "metadata": {},
     "output_type": "execute_result"
    }
   ],
   "source": [
    "from sympy.abc import a,b,c,d,x,y,z\n",
    "from cmath import pi\n",
    "roll,pitch,yaw = sympy.symbols('phi theta psi')\n",
    "\n",
    "qx = sympy.Quaternion(sympy.cos(x/2),sympy.sin(x/2),0,0)\n",
    "qy = sympy.Quaternion(sympy.cos(y/2),0,sympy.sin(y/2),0)\n",
    "qz = sympy.Quaternion(sympy.cos(z/2),0,0,sympy.sin(z/2))\n",
    "\n",
    "qxyz = qx*qy*qz\n",
    "qzyx = qz*qy*qx\n",
    "qyxz = qy*qx*qz\n",
    "qzxy = qz*qx*qy\n",
    "qyxz"
   ]
  },
  {
   "cell_type": "code",
   "execution_count": null,
   "metadata": {},
   "outputs": [
    {
     "data": {
      "text/latex": [
       "$\\displaystyle \\left[\\begin{matrix}- \\sin{\\left(x \\right)} \\sin{\\left(y \\right)} \\sin{\\left(z \\right)} + \\cos{\\left(y \\right)} \\cos{\\left(z \\right)} & \\sin{\\left(x \\right)} \\sin{\\left(y \\right)} \\cos{\\left(z \\right)} + \\sin{\\left(z \\right)} \\cos{\\left(y \\right)} & - \\sin{\\left(y \\right)} \\cos{\\left(x \\right)}\\\\- \\sin{\\left(z \\right)} \\cos{\\left(x \\right)} & \\cos{\\left(x \\right)} \\cos{\\left(z \\right)} & \\sin{\\left(x \\right)}\\\\\\sin{\\left(x \\right)} \\sin{\\left(z \\right)} \\cos{\\left(y \\right)} + \\sin{\\left(y \\right)} \\cos{\\left(z \\right)} & - \\sin{\\left(x \\right)} \\cos{\\left(y \\right)} \\cos{\\left(z \\right)} + \\sin{\\left(y \\right)} \\sin{\\left(z \\right)} & \\cos{\\left(x \\right)} \\cos{\\left(y \\right)}\\end{matrix}\\right]$"
      ],
      "text/plain": [
       "Matrix([\n",
       "[-sin(x)*sin(y)*sin(z) + cos(y)*cos(z),  sin(x)*sin(y)*cos(z) + sin(z)*cos(y), -sin(y)*cos(x)],\n",
       "[                       -sin(z)*cos(x),                         cos(x)*cos(z),         sin(x)],\n",
       "[ sin(x)*sin(z)*cos(y) + sin(y)*cos(z), -sin(x)*cos(y)*cos(z) + sin(y)*sin(z),  cos(x)*cos(y)]])"
      ]
     },
     "execution_count": 47,
     "metadata": {},
     "output_type": "execute_result"
    }
   ],
   "source": [
    "m_yxz = sympy.rot_axis2(y)*sympy.rot_axis1(x)*sympy.rot_axis3(z)\n",
    "m_yxz"
   ]
  },
  {
   "cell_type": "code",
   "execution_count": null,
   "metadata": {},
   "outputs": [
    {
     "data": {
      "text/latex": [
       "$\\displaystyle \\left[\\begin{matrix}- \\frac{2 \\left(q_{y}^{2} + q_{z}^{2}\\right)}{q_{w}^{2} + q_{x}^{2} + q_{y}^{2} + q_{z}^{2}} + 1 & \\frac{2 \\left(- q_{w} q_{z} + q_{x} q_{y}\\right)}{q_{w}^{2} + q_{x}^{2} + q_{y}^{2} + q_{z}^{2}} & \\frac{2 \\left(q_{w} q_{y} + q_{x} q_{z}\\right)}{q_{w}^{2} + q_{x}^{2} + q_{y}^{2} + q_{z}^{2}}\\\\\\frac{2 \\left(q_{w} q_{z} + q_{x} q_{y}\\right)}{q_{w}^{2} + q_{x}^{2} + q_{y}^{2} + q_{z}^{2}} & - \\frac{2 \\left(q_{x}^{2} + q_{z}^{2}\\right)}{q_{w}^{2} + q_{x}^{2} + q_{y}^{2} + q_{z}^{2}} + 1 & \\frac{2 \\left(- q_{w} q_{x} + q_{y} q_{z}\\right)}{q_{w}^{2} + q_{x}^{2} + q_{y}^{2} + q_{z}^{2}}\\\\\\frac{2 \\left(- q_{w} q_{y} + q_{x} q_{z}\\right)}{q_{w}^{2} + q_{x}^{2} + q_{y}^{2} + q_{z}^{2}} & \\frac{2 \\left(q_{w} q_{x} + q_{y} q_{z}\\right)}{q_{w}^{2} + q_{x}^{2} + q_{y}^{2} + q_{z}^{2}} & - \\frac{2 \\left(q_{x}^{2} + q_{y}^{2}\\right)}{q_{w}^{2} + q_{x}^{2} + q_{y}^{2} + q_{z}^{2}} + 1\\end{matrix}\\right]$"
      ],
      "text/plain": [
       "Matrix([\n",
       "[-2*(q_y**2 + q_z**2)/(q_w**2 + q_x**2 + q_y**2 + q_z**2) + 1,   2*(-q_w*q_z + q_x*q_y)/(q_w**2 + q_x**2 + q_y**2 + q_z**2),    2*(q_w*q_y + q_x*q_z)/(q_w**2 + q_x**2 + q_y**2 + q_z**2)],\n",
       "[   2*(q_w*q_z + q_x*q_y)/(q_w**2 + q_x**2 + q_y**2 + q_z**2), -2*(q_x**2 + q_z**2)/(q_w**2 + q_x**2 + q_y**2 + q_z**2) + 1,   2*(-q_w*q_x + q_y*q_z)/(q_w**2 + q_x**2 + q_y**2 + q_z**2)],\n",
       "[  2*(-q_w*q_y + q_x*q_z)/(q_w**2 + q_x**2 + q_y**2 + q_z**2),    2*(q_w*q_x + q_y*q_z)/(q_w**2 + q_x**2 + q_y**2 + q_z**2), -2*(q_x**2 + q_y**2)/(q_w**2 + q_x**2 + q_y**2 + q_z**2) + 1]])"
      ]
     },
     "execution_count": 48,
     "metadata": {},
     "output_type": "execute_result"
    }
   ],
   "source": [
    "qw,qx,qy,qz = sympy.symbols('q_w q_x q_y q_z')\n",
    "q_m = sympy.Quaternion(qw,qx,qy,qz).to_rotation_matrix()\n",
    "q_m"
   ]
  },
  {
   "cell_type": "code",
   "execution_count": null,
   "metadata": {},
   "outputs": [
    {
     "data": {
      "text/latex": [
       "$\\displaystyle \\frac{2 \\left(q_{w} q_{y} + q_{x} q_{z}\\right)}{q_{w}^{2} + q_{x}^{2} + q_{y}^{2} + q_{z}^{2}} - \\sin{\\left(y \\right)} \\cos{\\left(x \\right)}$"
      ],
      "text/plain": [
       "2*(q_w*q_y + q_x*q_z)/(q_w**2 + q_x**2 + q_y**2 + q_z**2) - sin(y)*cos(x)"
      ]
     },
     "execution_count": 61,
     "metadata": {},
     "output_type": "execute_result"
    }
   ],
   "source": [
    "expr = m_yxz[0,2] + q_m[0,2]\n",
    "expr"
   ]
  },
  {
   "cell_type": "code",
   "execution_count": null,
   "metadata": {},
   "outputs": [
    {
     "data": {
      "text/latex": [
       "$\\displaystyle 0.5 + 0.5 i + \\left(-0.5\\right) j + 0.5 k$"
      ],
      "text/plain": [
       "0.5 + 0.5*i + (-0.5)*j + 0.5*k"
      ]
     },
     "execution_count": 50,
     "metadata": {},
     "output_type": "execute_result"
    }
   ],
   "source": [
    "qyxz.subs(x,pi/2).subs(y,0).subs(z,pi/2)"
   ]
  },
  {
   "cell_type": "code",
   "execution_count": null,
   "metadata": {},
   "outputs": [
    {
     "data": {
      "text/latex": [
       "$\\displaystyle 0.5 + 0.5 i + \\left(-0.5\\right) j + 0.5 k$"
      ],
      "text/plain": [
       "0.5 + 0.5*i + (-0.5)*j + 0.5*k"
      ]
     },
     "execution_count": 51,
     "metadata": {},
     "output_type": "execute_result"
    }
   ],
   "source": [
    "qyxz.subs(x,pi/2).subs(y,0).subs(z,pi/2)"
   ]
  },
  {
   "cell_type": "code",
   "execution_count": null,
   "metadata": {},
   "outputs": [
    {
     "data": {
      "text/latex": [
       "$\\displaystyle 0.892399100832523 + 0.0990457605412876 i + 0.239117618394334 j + 0.369643810614386 k$"
      ],
      "text/plain": [
       "0.892399100832523 + 0.0990457605412876*i + 0.239117618394334*j + 0.369643810614386*k"
      ]
     },
     "execution_count": 52,
     "metadata": {},
     "output_type": "execute_result"
    }
   ],
   "source": [
    "qyxz.subs(((x,0),(y,pi/6),(z,pi/4)))"
   ]
  },
  {
   "cell_type": "markdown",
   "metadata": {},
   "source": [
    "#### Check operations\n"
   ]
  },
  {
   "cell_type": "code",
   "execution_count": null,
   "metadata": {},
   "outputs": [
    {
     "name": "stdout",
     "output_type": "stream",
     "text": [
      "Rotate v1 (sensor) with q1_s_b: \n",
      "\t[5.00412445e-07 5.86133473e-07 1.00000000e+00]\n",
      "Rotate q_sensor1 (q_g_sp) with q1_sp_bp resulting in q1_g_bp: \n",
      "\tquaternion(0.85439823975, -0.023481085755, 0.295993361502, -0.426427805031)\n",
      "Compute bp to b: \n",
      "\tquaternion(0.85439823975, 0.023481085755, -0.295993361502, 0.426427805031)\n",
      "Compute sp to b: \n",
      "\tquaternion(0.900814907175518, -0.224249976892159, -0.00430299955659737, 0.371787961689106)\n"
     ]
    }
   ],
   "source": [
    "v1 = [-0.678947, -0.193230, 0.708303]\n",
    "vz = [0, 0, 1]\n",
    "\n",
    "q1_s_b = np.quaternion(0.924203, -0.104539, 0.367315, 0.000000)\n",
    "print(f\"Rotate v1 (sensor) with q1_s_b: \\n\\t{quaternion.rotate_vectors(q1_s_b,v1)}\") \n",
    "q_sensor1 = np.quaternion(0.900815, 0.224250, 0.004303, -0.371788)\n",
    "q1_g_bp = q1_s_b*q_sensor1\n",
    "print(f\"Rotate q_sensor1 (q_g_sp) with q1_sp_bp resulting in q1_g_bp: \\n\\t{q1_g_bp}\") \n",
    "q1_bp_g = q1_g_bp.conj()\n",
    "q1_g_bp_expected = np.quaternion(1, 0,0,0)\n",
    "q1_bp_b = q1_g_bp_expected*q1_bp_g\n",
    "print(f\"Compute bp to b: \\n\\t{q1_bp_b}\")\n",
    "q1_zero = q1_bp_b*q1_s_b\n",
    "print(f\"Compute sp to b: \\n\\t{q1_zero}\")\n"
   ]
  },
  {
   "cell_type": "code",
   "execution_count": null,
   "metadata": {},
   "outputs": [
    {
     "name": "stdout",
     "output_type": "stream",
     "text": [
      "Rotate v1 (sensor) with q1_s_b: \n",
      "\t[ 0.00000000e+00 -1.22530028e-17  1.00000000e+00]\n",
      "Rotate q_sensor1 (q_g_sp) with q1_sp_bp resulting in q1_g_bp: \n",
      "\tquaternion(0.965925826289068, -0.258819045102521, 0, 0)\n",
      "Compute bp to b: \n",
      "\tquaternion(0.965925826289068, 0.258819045102521, 0, 0)\n",
      "Compute sp to b: \n",
      "\tquaternion(0.923879532511287, 0.38268343236509, 0, 0)\n"
     ]
    }
   ],
   "source": [
    "v1 = [0.0, np.sin(pi/12), np.cos(pi/12)]\n",
    "vz = [0, 0, 1]\n",
    "\n",
    "q1_s_b = quaternion.from_rotation_vector(pi/12*np.array([1,0,0]))\n",
    "print(f\"Rotate v1 (sensor) with q1_s_b: \\n\\t{quaternion.rotate_vectors(q1_s_b,v1)}\") \n",
    "q_sensor1 = quaternion.from_rotation_vector(-pi/4*np.array([1,0,0]))\n",
    "q1_g_bp = q1_s_b*q_sensor1\n",
    "print(f\"Rotate q_sensor1 (q_g_sp) with q1_sp_bp resulting in q1_g_bp: \\n\\t{q1_g_bp}\") \n",
    "q1_bp_g = q1_g_bp.conj()\n",
    "q1_g_bp_expected = np.quaternion(1, 0,0,0)\n",
    "q1_bp_b = q1_g_bp_expected*q1_bp_g\n",
    "print(f\"Compute bp to b: \\n\\t{q1_bp_b}\")\n",
    "q1_zero = q1_bp_b*q1_s_b\n",
    "print(f\"Compute sp to b: \\n\\t{q1_zero}\")"
   ]
  },
  {
   "cell_type": "code",
   "execution_count": null,
   "metadata": {},
   "outputs": [
    {
     "name": "stdout",
     "output_type": "stream",
     "text": [
      "Rotate v1 (sensor) with q1_s_b: \n",
      "\t[1.00000000e+00 7.43708407e-18 0.00000000e+00]\n",
      "Rotate q_sensor1 (q_g_sp) with q1_sp_bp resulting in q1_g_bp: \n",
      "\tquaternion(0.892399100832523, -0.369643810614386, -0.0990457605412876, 0.239117618394334)\n",
      "Compute bp to b: \n",
      "\tquaternion(0.892399100832523, 0.369643810614386, 0.0990457605412876, -0.239117618394334)\n",
      "Compute sp to b: \n",
      "\tquaternion(0.923879532511287, 0.38268343236509, 1.38777878078145e-17, 2.77555756156289e-17)\n"
     ]
    }
   ],
   "source": [
    "v1 = [np.cos(pi/6), -np.sin(pi/6), 0]\n",
    "vx = [1, 0, 0]\n",
    "\n",
    "q1_s_b = quaternion.from_rotation_vector(pi/6*np.array([0,0,1]))\n",
    "print(f\"Rotate v1 (sensor) with q1_s_b: \\n\\t{quaternion.rotate_vectors(q1_s_b,v1)}\") \n",
    "q_sensor1 = quaternion.from_rotation_vector(-pi/4*np.array([1,0,0]))\n",
    "q1_g_bp = q1_s_b*q_sensor1\n",
    "print(f\"Rotate q_sensor1 (q_g_sp) with q1_sp_bp resulting in q1_g_bp: \\n\\t{q1_g_bp}\") \n",
    "q1_bp_g = q1_g_bp.conj()\n",
    "q1_g_bp_expected = np.quaternion(1, 0,0,0)\n",
    "q1_bp_b = q1_g_bp_expected*q1_bp_g\n",
    "print(f\"Compute bp to b: \\n\\t{q1_bp_b}\")\n",
    "q1_zero = q1_bp_b*q1_s_b\n",
    "print(f\"Compute sp to b: \\n\\t{q1_zero}\")"
   ]
  },
  {
   "cell_type": "code",
   "execution_count": null,
   "metadata": {},
   "outputs": [
    {
     "data": {
      "text/latex": [
       "$\\displaystyle \\left[\\begin{matrix}c\\\\- s\\\\0\\end{matrix}\\right]$"
      ],
      "text/plain": [
       "Matrix([\n",
       "[ c],\n",
       "[-s],\n",
       "[ 0]])"
      ]
     },
     "execution_count": 56,
     "metadata": {},
     "output_type": "execute_result"
    }
   ],
   "source": [
    "c,s=sympy.symbols('c s')\n",
    "Mx = sympy.Matrix([\n",
    "    [1,0,0],\n",
    "    [0,c,s],\n",
    "    [0,-s,c]\n",
    "])\n",
    "Mz = sympy.Matrix([\n",
    "    [c,s,0],\n",
    "    [-s,c,0],\n",
    "    [0,0,1]\n",
    "])\n",
    "Mz*sympy.Matrix([\n",
    "    [1],\n",
    "    [0],\n",
    "    [0]\n",
    "])"
   ]
  },
  {
   "cell_type": "markdown",
   "metadata": {},
   "source": [
    "## Plot Data"
   ]
  },
  {
   "cell_type": "code",
   "execution_count": null,
   "metadata": {},
   "outputs": [],
   "source": [
    "import os\n",
    "import matplotlib.pyplot as plt\n",
    "\n",
    "DATA_DIR = \"../data/\"\n",
    "\n",
    "dirs = os.listdir(DATA_DIR)\n",
    "dirs.sort(reverse=True)\n",
    "\n",
    "path = None\n",
    "for d in dirs:\n",
    "    if 'tst' not in d:\n",
    "        path = DATA_DIR+d \n",
    "        break\n",
    "\n",
    "# path = \"../data/tst_cal_005.csv\"\n",
    "\n",
    "if path is not None:\n",
    "    print(f\"Open CSV file in \\\"{path}\\\"\")\n",
    "    df = pd.read_csv(path)\n",
    "\n",
    "    # Adjust plot style\n",
    "    plt.figure(figsize=(15, 8), dpi=80)\n",
    "    plt.grid(True)\n",
    "    plt.style.use('classic')\n",
    "\n",
    "    # Show plot\n",
    "    for col in df.columns[1:]:\n",
    "        plt.plot(df[df.columns[0]], df[col])\n",
    "    plt.legend(df.columns[1:])\n",
    "    plt.xlabel(df.columns[0])\n",
    "    plt.show()"
   ]
  },
  {
   "cell_type": "code",
   "execution_count": null,
   "metadata": {},
   "outputs": [],
   "source": [
    "if path is not None:\n",
    "    # Adjust plot style\n",
    "    plt.figure(figsize=(15, 8), dpi=80)\n",
    "    plt.grid(True)\n",
    "    plt.style.use('classic')\n",
    "\n",
    "    # Show alternative plot\n",
    "    columns = []\n",
    "    # columns = [\"ARM_SHOULDER_ORIENTATION(0)_0\", \"ARM_SHOULDER_ORIENTATION(0)_1\", \"ARM_SHOULDER_ORIENTATION(0)_2\", \"ARM_SHOULDER_ORIENTATION(0)_3\"]\n",
    "    # columns += [\"ARM_ELBOW_ORIENTATION(0)_0\", \"ARM_ELBOW_ORIENTATION(0)_1\", \"ARM_ELBOW_ORIENTATION(0)_2\", \"ARM_ELBOW_ORIENTATION(0)_3\"]\n",
    "    # columns += [\"IMU_QUATERNION(1)_0\", \"IMU_QUATERNION(1)_1\", \"IMU_QUATERNION(1)_2\", \"IMU_QUATERNION(1)_3\"]\n",
    "    # columns += [\"CALIB_ROT_VECTOR(0)_0\", \"CALIB_ROT_VECTOR(0)_1\", \"CALIB_ROT_VECTOR(0)_2\"]\n",
    "    # columns += [\"CALIB_ROT_VECTOR(1)_0\", \"CALIB_ROT_VECTOR(1)_1\", \"CALIB_ROT_VECTOR(1)_2\"]\n",
    "    # columns += [\"CALIB_ERROR(0)_0\"]\n",
    "    # columns += [\"CALIB_COST_DERIVATIVE(0)_0\", \"CALIB_COST_DERIVATIVE(0)_1\", \"CALIB_COST_DERIVATIVE(1)_0\", \"CALIB_COST_DERIVATIVE(1)_1\"]\n",
    "\n",
    "    columns += [\"ARM_SHOULDER_ORIENTATION(0)_0\", \"IMU_QUATERNION(0)_0\"]\n",
    "\n",
    "    legend = []\n",
    "    for col in columns:\n",
    "        if col in df.columns[1:]:\n",
    "            plt.plot(df[df.columns[0]], df[col])\n",
    "            legend.append(col)\n",
    "    plt.legend(legend)\n",
    "    plt.xlabel(df.columns[0])\n",
    "    plt.show()"
   ]
  }
 ],
 "metadata": {
  "kernelspec": {
   "display_name": "Python 3.6.9 64-bit",
   "language": "python",
   "name": "python3"
  },
  "language_info": {
   "codemirror_mode": {
    "name": "ipython",
    "version": 3
   },
   "file_extension": ".py",
   "mimetype": "text/x-python",
   "name": "python",
   "nbconvert_exporter": "python",
   "pygments_lexer": "ipython3",
   "version": "3.6.9"
  },
  "orig_nbformat": 4,
  "vscode": {
   "interpreter": {
    "hash": "31f2aee4e71d21fbe5cf8b01ff0e069b9275f58929596ceb00d14d90e3e16cd6"
   }
  }
 },
 "nbformat": 4,
 "nbformat_minor": 2
}
