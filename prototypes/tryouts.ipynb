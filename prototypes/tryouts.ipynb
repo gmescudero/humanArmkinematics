{
 "cells": [
  {
   "cell_type": "code",
   "execution_count": 1,
   "metadata": {},
   "outputs": [],
   "source": [
    "import numpy as np\n",
    "import pandas as pd"
   ]
  },
  {
   "cell_type": "markdown",
   "metadata": {},
   "source": [
    "## Random"
   ]
  },
  {
   "cell_type": "code",
   "execution_count": 2,
   "metadata": {},
   "outputs": [],
   "source": [
    "v = np.array([8,3,3])\n",
    "vt = np.transpose(v)"
   ]
  },
  {
   "cell_type": "code",
   "execution_count": 3,
   "metadata": {},
   "outputs": [
    {
     "data": {
      "text/plain": [
       "82"
      ]
     },
     "execution_count": 3,
     "metadata": {},
     "output_type": "execute_result"
    }
   ],
   "source": [
    "np.matmul(vt,v)"
   ]
  },
  {
   "cell_type": "code",
   "execution_count": 4,
   "metadata": {},
   "outputs": [
    {
     "data": {
      "text/plain": [
       "82"
      ]
     },
     "execution_count": 4,
     "metadata": {},
     "output_type": "execute_result"
    }
   ],
   "source": [
    "np.dot(v,v)"
   ]
  },
  {
   "cell_type": "code",
   "execution_count": 5,
   "metadata": {},
   "outputs": [
    {
     "data": {
      "text/plain": [
       "82"
      ]
     },
     "execution_count": 5,
     "metadata": {},
     "output_type": "execute_result"
    }
   ],
   "source": [
    "v[0]*v[0] + v[1]*v[1] + v[2]*v[2]"
   ]
  },
  {
   "cell_type": "markdown",
   "metadata": {},
   "source": [
    "## Coordenadas esféricas"
   ]
  },
  {
   "cell_type": "code",
   "execution_count": 6,
   "metadata": {},
   "outputs": [
    {
     "name": "stdout",
     "output_type": "stream",
     "text": [
      "1.5707963267948966\n"
     ]
    }
   ],
   "source": [
    "v = [1,0,0]\n",
    "\n",
    "theta = np.arctan2(np.linalg.norm(v[:1]),v[2])\n",
    "print(theta)"
   ]
  },
  {
   "cell_type": "markdown",
   "metadata": {},
   "source": [
    "## Quaternions"
   ]
  },
  {
   "cell_type": "code",
   "execution_count": 7,
   "metadata": {},
   "outputs": [
    {
     "name": "stdout",
     "output_type": "stream",
     "text": [
      "quaternion(6.12323399573677e-17, -0, 0, 1)\n",
      "quaternion(-0.5, -0, 0, 0.866025403784439)\n",
      "quaternion(6.12323399573677e-17, 0, -0, -1)\n",
      "quaternion(0.866025403784439, 0, 0, 0.5)\n",
      "[ 0.  0. 60.]\n"
     ]
    }
   ],
   "source": [
    "import quaternion\n",
    "q1 = np.quaternion(1,0,0,0)\n",
    "q2 = quaternion.from_euler_angles(np.pi,0,0)\n",
    "q3 = quaternion.from_euler_angles(np.pi,0,np.pi/3)\n",
    "\n",
    "print(q2)\n",
    "print(q3)\n",
    "print(q2.conj())\n",
    "print(q2.conj()*q3)\n",
    "q_aux = q2.conj()*q3\n",
    "print((180/np.pi)*quaternion.as_rotation_vector(q_aux))\n",
    "\n"
   ]
  },
  {
   "cell_type": "markdown",
   "metadata": {},
   "source": [
    "## Plot Data"
   ]
  },
  {
   "cell_type": "code",
   "execution_count": 8,
   "metadata": {},
   "outputs": [
    {
     "ename": "NameError",
     "evalue": "name 'path' is not defined",
     "output_type": "error",
     "traceback": [
      "\u001b[0;31m---------------------------------------------------------------------------\u001b[0m",
      "\u001b[0;31mNameError\u001b[0m                                 Traceback (most recent call last)",
      "\u001b[1;32m/home/gmescudero/git_repos/humanArmkinematics/prototypes/tryouts.ipynb Cell 12'\u001b[0m in \u001b[0;36m<cell line: 14>\u001b[0;34m()\u001b[0m\n\u001b[1;32m     <a href='vscode-notebook-cell:/home/gmescudero/git_repos/humanArmkinematics/prototypes/tryouts.ipynb#ch0000011?line=10'>11</a>\u001b[0m         path \u001b[39m=\u001b[39m DATA_DIR\u001b[39m+\u001b[39md \n\u001b[1;32m     <a href='vscode-notebook-cell:/home/gmescudero/git_repos/humanArmkinematics/prototypes/tryouts.ipynb#ch0000011?line=11'>12</a>\u001b[0m         \u001b[39mbreak\u001b[39;00m\n\u001b[0;32m---> <a href='vscode-notebook-cell:/home/gmescudero/git_repos/humanArmkinematics/prototypes/tryouts.ipynb#ch0000011?line=13'>14</a>\u001b[0m \u001b[39mprint\u001b[39m(\u001b[39mf\u001b[39m\u001b[39m\"\u001b[39m\u001b[39mOpen CSV file in \u001b[39m\u001b[39m\\\"\u001b[39;00m\u001b[39m{\u001b[39;00mpath\u001b[39m}\u001b[39;00m\u001b[39m\\\"\u001b[39;00m\u001b[39m\"\u001b[39m)\n\u001b[1;32m     <a href='vscode-notebook-cell:/home/gmescudero/git_repos/humanArmkinematics/prototypes/tryouts.ipynb#ch0000011?line=14'>15</a>\u001b[0m df \u001b[39m=\u001b[39m pd\u001b[39m.\u001b[39mread_csv(path)\n\u001b[1;32m     <a href='vscode-notebook-cell:/home/gmescudero/git_repos/humanArmkinematics/prototypes/tryouts.ipynb#ch0000011?line=16'>17</a>\u001b[0m \u001b[39m# Adjust plot style\u001b[39;00m\n",
      "\u001b[0;31mNameError\u001b[0m: name 'path' is not defined"
     ]
    }
   ],
   "source": [
    "import os\n",
    "import matplotlib.pyplot as plt\n",
    "\n",
    "DATA_DIR = \"../data/\"\n",
    "\n",
    "dirs = os.listdir(DATA_DIR)\n",
    "dirs.sort(reverse=True)\n",
    "\n",
    "for d in dirs:\n",
    "    if 'tst' not in d:\n",
    "        path = DATA_DIR+d \n",
    "        break\n",
    "\n",
    "print(f\"Open CSV file in \\\"{path}\\\"\")\n",
    "df = pd.read_csv(path)\n",
    "\n",
    "# Adjust plot style\n",
    "plt.figure(figsize=(15, 8), dpi=80)\n",
    "plt.grid(True)\n",
    "plt.style.use('classic')\n",
    "\n",
    "# Show plot\n",
    "for col in df.columns[1:]:\n",
    "    plt.plot(df[df.columns[0]], df[col])\n",
    "plt.legend(df.columns[1:])\n",
    "plt.xlabel(df.columns[0])\n",
    "plt.show()\n",
    "\n"
   ]
  },
  {
   "cell_type": "code",
   "execution_count": null,
   "metadata": {},
   "outputs": [
    {
     "data": {
      "image/png": "[encoded data removed]",
      "text/plain": [
       "<Figure size 1200x640 with 1 Axes>"
      ]
     },
     "metadata": {},
     "output_type": "display_data"
    }
   ],
   "source": [
    "# Adjust plot style\n",
    "plt.figure(figsize=(15, 8), dpi=80)\n",
    "plt.grid(True)\n",
    "plt.style.use('classic')\n",
    "\n",
    "# Show alternative plot\n",
    "columns = []\n",
    "# columns = [\"ARM_SHOULDER_ORIENTATION(0)_0\", \"ARM_SHOULDER_ORIENTATION(0)_1\", \"ARM_SHOULDER_ORIENTATION(0)_2\", \"ARM_SHOULDER_ORIENTATION(0)_3\"]\n",
    "columns += [\"ARM_ELBOW_ORIENTATION(0)_0\", \"ARM_ELBOW_ORIENTATION(0)_1\", \"ARM_ELBOW_ORIENTATION(0)_2\", \"ARM_ELBOW_ORIENTATION(0)_3\"]\n",
    "columns += [\"IMU_QUATERNION(1)_0\", \"IMU_QUATERNION(1)_1\", \"IMU_QUATERNION(1)_2\", \"IMU_QUATERNION(1)_3\"]\n",
    "legend = []\n",
    "for col in columns:\n",
    "    if col in df.columns[1:]:\n",
    "        plt.plot(df[df.columns[0]], df[col])\n",
    "        legend.append(col)\n",
    "plt.legend(legend)\n",
    "plt.xlabel(df.columns[0])\n",
    "plt.show()"
   ]
  },
  {
   "cell_type": "code",
   "execution_count": 36,
   "metadata": {},
   "outputs": [
    {
     "name": "stdout",
     "output_type": "stream",
     "text": [
      "[[ 1.  8.  0.]\n",
      " [ 0.  1. -3.]]\n",
      "[[ 1.  0.]\n",
      " [ 8.  1.]\n",
      " [ 0. -3.]]\n",
      "[[ 1.  8.  0.]\n",
      " [ 8. 65. -3.]\n",
      " [ 0. -3.  9.]]\n"
     ]
    },
    {
     "ename": "LinAlgError",
     "evalue": "Singular matrix",
     "output_type": "error",
     "traceback": [
      "\u001b[0;31m---------------------------------------------------------------------------\u001b[0m",
      "\u001b[0;31mLinAlgError\u001b[0m                               Traceback (most recent call last)",
      "\u001b[1;32m/home/gmescudero/git_repos/humanArmkinematics/prototypes/tryouts.ipynb Cell 14'\u001b[0m in \u001b[0;36m<cell line: 33>\u001b[0;34m()\u001b[0m\n\u001b[1;32m     <a href='vscode-notebook-cell:/home/gmescudero/git_repos/humanArmkinematics/prototypes/tryouts.ipynb#ch0000013?line=30'>31</a>\u001b[0m \u001b[39mprint\u001b[39m(m5t)\n\u001b[1;32m     <a href='vscode-notebook-cell:/home/gmescudero/git_repos/humanArmkinematics/prototypes/tryouts.ipynb#ch0000013?line=31'>32</a>\u001b[0m \u001b[39mprint\u001b[39m(m5tm5)\n\u001b[0;32m---> <a href='vscode-notebook-cell:/home/gmescudero/git_repos/humanArmkinematics/prototypes/tryouts.ipynb#ch0000013?line=32'>33</a>\u001b[0m \u001b[39mprint\u001b[39m(np\u001b[39m.\u001b[39;49mlinalg\u001b[39m.\u001b[39;49minv(m5tm5))\n",
      "File \u001b[0;32m<__array_function__ internals>:180\u001b[0m, in \u001b[0;36minv\u001b[0;34m(*args, **kwargs)\u001b[0m\n",
      "File \u001b[0;32m~/.local/lib/python3.8/site-packages/numpy/linalg/linalg.py:552\u001b[0m, in \u001b[0;36minv\u001b[0;34m(a)\u001b[0m\n\u001b[1;32m    550\u001b[0m signature \u001b[39m=\u001b[39m \u001b[39m'\u001b[39m\u001b[39mD->D\u001b[39m\u001b[39m'\u001b[39m \u001b[39mif\u001b[39;00m isComplexType(t) \u001b[39melse\u001b[39;00m \u001b[39m'\u001b[39m\u001b[39md->d\u001b[39m\u001b[39m'\u001b[39m\n\u001b[1;32m    551\u001b[0m extobj \u001b[39m=\u001b[39m get_linalg_error_extobj(_raise_linalgerror_singular)\n\u001b[0;32m--> 552\u001b[0m ainv \u001b[39m=\u001b[39m _umath_linalg\u001b[39m.\u001b[39;49minv(a, signature\u001b[39m=\u001b[39;49msignature, extobj\u001b[39m=\u001b[39;49mextobj)\n\u001b[1;32m    553\u001b[0m \u001b[39mreturn\u001b[39;00m wrap(ainv\u001b[39m.\u001b[39mastype(result_t, copy\u001b[39m=\u001b[39m\u001b[39mFalse\u001b[39;00m))\n",
      "File \u001b[0;32m~/.local/lib/python3.8/site-packages/numpy/linalg/linalg.py:89\u001b[0m, in \u001b[0;36m_raise_linalgerror_singular\u001b[0;34m(err, flag)\u001b[0m\n\u001b[1;32m     88\u001b[0m \u001b[39mdef\u001b[39;00m \u001b[39m_raise_linalgerror_singular\u001b[39m(err, flag):\n\u001b[0;32m---> 89\u001b[0m     \u001b[39mraise\u001b[39;00m LinAlgError(\u001b[39m\"\u001b[39m\u001b[39mSingular matrix\u001b[39m\u001b[39m\"\u001b[39m)\n",
      "\u001b[0;31mLinAlgError\u001b[0m: Singular matrix"
     ]
    }
   ],
   "source": [
    "m1 = np.eye(2)\n",
    "m2 = np.eye(2)\n",
    "m3 = np.array([\n",
    "    [3],\n",
    "    [4]\n",
    "])\n",
    "m4 = np.array([\n",
    "    [3.0, 0.0, 2.0],\n",
    "    [2.0, 1.0,-2.0],\n",
    "    [0.0, 1.0, 1.0]\n",
    "])\n",
    "m5 = np.array([\n",
    "    [1.0, 8.0, 0.0],\n",
    "    [0.0, 1.0,-3.0]\n",
    "])\n",
    "\n",
    "m1[0,1] = 2.0 \n",
    "m2[0,1] = 3.0\n",
    "\n",
    "# print(m1)\n",
    "# print(m2)\n",
    "# print(m3)\n",
    "# print(m4)\n",
    "print(m5)\n",
    "\n",
    "# print(np.matmul(m1,m2))\n",
    "# print(np.matmul(m1,m3))\n",
    "# print(np.linalg.inv(m4))\n",
    "m5t = np.transpose(m5)\n",
    "m5tm5 = np.matmul(m5t,m5)\n",
    "print(m5t)\n",
    "print(m5tm5)\n",
    "print(np.linalg.inv(m5tm5))"
   ]
  }
 ],
 "metadata": {
  "interpreter": {
   "hash": "916dbcbb3f70747c44a77c7bcd40155683ae19c65e1c03b4aa3499c5328201f1"
  },
  "kernelspec": {
   "display_name": "Python 3.8.10 64-bit",
   "language": "python",
   "name": "python3"
  },
  "language_info": {
   "codemirror_mode": {
    "name": "ipython",
    "version": 3
   },
   "file_extension": ".py",
   "mimetype": "text/x-python",
   "name": "python",
   "nbconvert_exporter": "python",
   "pygments_lexer": "ipython3",
   "version": "3.8.10"
  },
  "orig_nbformat": 4
 },
 "nbformat": 4,
 "nbformat_minor": 2
}
