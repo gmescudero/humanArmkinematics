{
 "cells": [
  {
   "cell_type": "code",
   "execution_count": 1,
   "metadata": {},
   "outputs": [],
   "source": [
    "import numpy as np\n",
    "import pandas as pd"
   ]
  },
  {
   "cell_type": "markdown",
   "metadata": {},
   "source": [
    "## Random"
   ]
  },
  {
   "cell_type": "code",
   "execution_count": 2,
   "metadata": {},
   "outputs": [],
   "source": [
    "v = np.array([8,3,3])\n",
    "vt = np.transpose(v)"
   ]
  },
  {
   "cell_type": "code",
   "execution_count": 3,
   "metadata": {},
   "outputs": [
    {
     "data": {
      "text/plain": [
       "82"
      ]
     },
     "execution_count": 3,
     "metadata": {},
     "output_type": "execute_result"
    }
   ],
   "source": [
    "np.matmul(vt,v)"
   ]
  },
  {
   "cell_type": "code",
   "execution_count": 4,
   "metadata": {},
   "outputs": [
    {
     "data": {
      "text/plain": [
       "82"
      ]
     },
     "execution_count": 4,
     "metadata": {},
     "output_type": "execute_result"
    }
   ],
   "source": [
    "np.dot(v,v)"
   ]
  },
  {
   "cell_type": "code",
   "execution_count": 5,
   "metadata": {},
   "outputs": [
    {
     "data": {
      "text/plain": [
       "82"
      ]
     },
     "execution_count": 5,
     "metadata": {},
     "output_type": "execute_result"
    }
   ],
   "source": [
    "v[0]*v[0] + v[1]*v[1] + v[2]*v[2]"
   ]
  },
  {
   "cell_type": "markdown",
   "metadata": {},
   "source": [
    "## Math checks"
   ]
  },
  {
   "cell_type": "code",
   "execution_count": 6,
   "metadata": {},
   "outputs": [],
   "source": [
    "m = np.array([\n",
    "    [1, 2, 1, 3, 1, 4, 1, 50],\n",
    "    [1, 2, 2, 2, 3, 2, 4, 20],\n",
    "    [1, 2, 3, 4, 5, 6, 7, 80]\n",
    "])"
   ]
  },
  {
   "cell_type": "code",
   "execution_count": 7,
   "metadata": {},
   "outputs": [
    {
     "data": {
      "text/plain": [
       "array([[ 0.09540529,  0.12694315, -0.09150867],\n",
       "       [ 0.19081058,  0.2538863 , -0.18301734],\n",
       "       [ 0.00689826,  0.09634847, -0.02848114],\n",
       "       [ 0.12729426,  0.16814683, -0.12137359],\n",
       "       [-0.08160877,  0.06575378,  0.03454638],\n",
       "       [ 0.06377793,  0.08240737, -0.05972985],\n",
       "       [-0.1701158 ,  0.0351591 ,  0.09757391],\n",
       "       [ 0.00261611, -0.03332094,  0.01913889]])"
      ]
     },
     "execution_count": 7,
     "metadata": {},
     "output_type": "execute_result"
    }
   ],
   "source": [
    "np.linalg.pinv(m)"
   ]
  },
  {
   "cell_type": "code",
   "execution_count": 9,
   "metadata": {},
   "outputs": [],
   "source": [
    "# mt = np.transpose(m)\n",
    "# m_pinv = np.matmul(np.linalg.inv( np.matmul(mt,m) ), mt)\n",
    "# m_pinv"
   ]
  },
  {
   "cell_type": "code",
   "execution_count": 10,
   "metadata": {},
   "outputs": [
    {
     "data": {
      "text/plain": [
       "array([[  -7620,   -3147,  -12273],\n",
       "       [ -15240,   -6294,  -24546],\n",
       "       [ -16763,   -6940,  -27030],\n",
       "       [ -25888,  -10673,  -41685],\n",
       "       [ -25906,  -10733,  -41787],\n",
       "       [ -36536,  -15052,  -58824],\n",
       "       [ -35049,  -14526,  -56544],\n",
       "       [-471840, -194310, -759630]])"
      ]
     },
     "execution_count": 10,
     "metadata": {},
     "output_type": "execute_result"
    }
   ],
   "source": [
    "mt = np.transpose(m)\n",
    "m_pinv = np.matmul(mt, np.invert( np.matmul(m,mt) ))\n",
    "m_pinv"
   ]
  },
  {
   "cell_type": "markdown",
   "metadata": {},
   "source": [
    "## Coordenadas esféricas"
   ]
  },
  {
   "cell_type": "code",
   "execution_count": 11,
   "metadata": {},
   "outputs": [
    {
     "name": "stdout",
     "output_type": "stream",
     "text": [
      "theta: 0.0, rho: 0.0\n"
     ]
    }
   ],
   "source": [
    "v = [1,0,0]\n",
    "\n",
    "\n",
    "theta = np.arctan2(np.linalg.norm((v[1],v[2])),v[0])\n",
    "rho = np.arctan2(v[1], v[2])\n",
    "print(f\"theta: {theta}, rho: {rho}\")"
   ]
  },
  {
   "cell_type": "markdown",
   "metadata": {},
   "source": [
    "## Quaternions"
   ]
  },
  {
   "cell_type": "code",
   "execution_count": 12,
   "metadata": {},
   "outputs": [
    {
     "data": {
      "text/plain": [
       "quaternion(0.793353340291235, 0, 0, -0.60876142900872)"
      ]
     },
     "execution_count": 12,
     "metadata": {},
     "output_type": "execute_result"
    }
   ],
   "source": [
    "import quaternion\n",
    "# q1 = np.quaternion(1,0,0,0)\n",
    "# q2 = quaternion.from_euler_angles(np.pi,0,0)\n",
    "# q3 = quaternion.from_euler_angles(np.pi,0,np.pi/3)\n",
    "\n",
    "# print(q2)\n",
    "# print(q3)\n",
    "# print(q2.conj())\n",
    "# print(q2.conj()*q3)\n",
    "# q_aux = q2.conj()*q3\n",
    "# print((180/np.pi)*quaternion.as_rotation_vector(q_aux))\n",
    "\n",
    "q_g_sp  = quaternion.from_euler_angles(0,0, -np.pi/12) # -15 degrees\n",
    "q_sp_bp = quaternion.from_euler_angles(0,0, -np.pi/6)  # -30 degrees\n",
    "q_g_b   = quaternion.from_euler_angles(0,0, -np.pi/2)  # -90 degrees\n",
    "\n",
    "# Compute nonzero sensor to nonzero body\n",
    "q_g_bp = q_g_sp*q_sp_bp\n",
    "# Compute nonzero body to expected body at zero\n",
    "q_bp_b = q_g_bp.conj()*q_g_b\n",
    "# Compute nonzero sensor to zero body\n",
    "q_zero = q_bp_b*q_sp_bp\n",
    "\n",
    "quaternion.as_rotation_vector( q_zero )*180/np.pi\n",
    "q_zero"
   ]
  },
  {
   "cell_type": "code",
   "execution_count": 13,
   "metadata": {},
   "outputs": [
    {
     "data": {
      "text/plain": [
       "array([   0.,    0., -120.])"
      ]
     },
     "execution_count": 13,
     "metadata": {},
     "output_type": "execute_result"
    }
   ],
   "source": [
    "q_g_sp_new = quaternion.from_euler_angles(0,0, -np.pi/4)\n",
    "\n",
    "quaternion.as_rotation_vector( q_zero*q_g_sp_new )*180/np.pi\n"
   ]
  },
  {
   "cell_type": "code",
   "execution_count": 107,
   "metadata": {},
   "outputs": [
    {
     "data": {
      "text/latex": [
       "$\\displaystyle \\left(- \\sin{\\left(\\frac{x}{2} \\right)} \\sin{\\left(\\frac{y}{2} \\right)} \\sin{\\left(\\frac{z}{2} \\right)} + \\cos{\\left(\\frac{x}{2} \\right)} \\cos{\\left(\\frac{y}{2} \\right)} \\cos{\\left(\\frac{z}{2} \\right)}\\right) + \\left(\\sin{\\left(\\frac{x}{2} \\right)} \\cos{\\left(\\frac{y}{2} \\right)} \\cos{\\left(\\frac{z}{2} \\right)} - \\sin{\\left(\\frac{y}{2} \\right)} \\sin{\\left(\\frac{z}{2} \\right)} \\cos{\\left(\\frac{x}{2} \\right)}\\right) i + \\left(\\sin{\\left(\\frac{x}{2} \\right)} \\sin{\\left(\\frac{z}{2} \\right)} \\cos{\\left(\\frac{y}{2} \\right)} + \\sin{\\left(\\frac{y}{2} \\right)} \\cos{\\left(\\frac{x}{2} \\right)} \\cos{\\left(\\frac{z}{2} \\right)}\\right) j + \\left(\\sin{\\left(\\frac{x}{2} \\right)} \\sin{\\left(\\frac{y}{2} \\right)} \\cos{\\left(\\frac{z}{2} \\right)} + \\sin{\\left(\\frac{z}{2} \\right)} \\cos{\\left(\\frac{x}{2} \\right)} \\cos{\\left(\\frac{y}{2} \\right)}\\right) k$"
      ],
      "text/plain": [
       "(-sin(x/2)*sin(y/2)*sin(z/2) + cos(x/2)*cos(y/2)*cos(z/2)) + (sin(x/2)*cos(y/2)*cos(z/2) - sin(y/2)*sin(z/2)*cos(x/2))*i + (sin(x/2)*sin(z/2)*cos(y/2) + sin(y/2)*cos(x/2)*cos(z/2))*j + (sin(x/2)*sin(y/2)*cos(z/2) + sin(z/2)*cos(x/2)*cos(y/2))*k"
      ]
     },
     "execution_count": 107,
     "metadata": {},
     "output_type": "execute_result"
    }
   ],
   "source": [
    "import sympy\n",
    "from sympy.abc import a,b,c,d,x,y,z\n",
    "from cmath import pi\n",
    "roll,pitch,yaw = sympy.symbols('phi theta psi')\n",
    "\n",
    "qx = sympy.Quaternion(sympy.cos(x/2),sympy.sin(x/2),0,0)\n",
    "qy = sympy.Quaternion(sympy.cos(y/2),0,sympy.sin(y/2),0)\n",
    "qz = sympy.Quaternion(sympy.cos(z/2),0,0,sympy.sin(z/2))\n",
    "\n",
    "qxyz = qx*qy*qz\n",
    "qzyx = qz*qy*qx\n",
    "qyxz = qy*qx*qz\n",
    "qzxy = qz*qx*qy\n",
    "qzxy"
   ]
  },
  {
   "cell_type": "code",
   "execution_count": 114,
   "metadata": {},
   "outputs": [
    {
     "data": {
      "text/latex": [
       "$\\displaystyle \\left[\\begin{matrix}1 & 0 & 0\\\\0 & \\cos{\\left(x \\right)} & \\sin{\\left(x \\right)}\\\\0 & - \\sin{\\left(x \\right)} & \\cos{\\left(x \\right)}\\end{matrix}\\right]$"
      ],
      "text/plain": [
       "Matrix([\n",
       "[1,       0,      0],\n",
       "[0,  cos(x), sin(x)],\n",
       "[0, -sin(x), cos(x)]])"
      ]
     },
     "execution_count": 114,
     "metadata": {},
     "output_type": "execute_result"
    }
   ],
   "source": [
    "sympy.rot_axis3(z)*sympy.rot_axis1(x)*sympy.rot_axis2(y)\n"
   ]
  },
  {
   "cell_type": "code",
   "execution_count": 110,
   "metadata": {},
   "outputs": [
    {
     "data": {
      "text/latex": [
       "$\\displaystyle 0.5 + 0.5 i + 0.5 j + 0.5 k$"
      ],
      "text/plain": [
       "0.5 + 0.5*i + 0.5*j + 0.5*k"
      ]
     },
     "execution_count": 110,
     "metadata": {},
     "output_type": "execute_result"
    }
   ],
   "source": [
    "qzyx.subs(x,pi/2).subs(y,0).subs(z,pi/2)"
   ]
  },
  {
   "cell_type": "code",
   "execution_count": 111,
   "metadata": {},
   "outputs": [
    {
     "data": {
      "text/latex": [
       "$\\displaystyle 0.5 + 0.5 i + 0.5 j + 0.5 k$"
      ],
      "text/plain": [
       "0.5 + 0.5*i + 0.5*j + 0.5*k"
      ]
     },
     "execution_count": 111,
     "metadata": {},
     "output_type": "execute_result"
    }
   ],
   "source": [
    "qzxy.subs(x,pi/2).subs(y,0).subs(z,pi/2)"
   ]
  },
  {
   "cell_type": "markdown",
   "metadata": {},
   "source": [
    "## Plot Data"
   ]
  },
  {
   "cell_type": "code",
   "execution_count": 112,
   "metadata": {},
   "outputs": [],
   "source": [
    "import os\n",
    "import matplotlib.pyplot as plt\n",
    "\n",
    "DATA_DIR = \"../data/\"\n",
    "\n",
    "dirs = os.listdir(DATA_DIR)\n",
    "dirs.sort(reverse=True)\n",
    "\n",
    "path = None\n",
    "for d in dirs:\n",
    "    if 'tst' not in d:\n",
    "        path = DATA_DIR+d \n",
    "        break\n",
    "\n",
    "# path = \"../data/tst_cal_005.csv\"\n",
    "\n",
    "if path is not None:\n",
    "    print(f\"Open CSV file in \\\"{path}\\\"\")\n",
    "    df = pd.read_csv(path)\n",
    "\n",
    "    # Adjust plot style\n",
    "    plt.figure(figsize=(15, 8), dpi=80)\n",
    "    plt.grid(True)\n",
    "    plt.style.use('classic')\n",
    "\n",
    "    # Show plot\n",
    "    for col in df.columns[1:]:\n",
    "        plt.plot(df[df.columns[0]], df[col])\n",
    "    plt.legend(df.columns[1:])\n",
    "    plt.xlabel(df.columns[0])\n",
    "    plt.show()"
   ]
  },
  {
   "cell_type": "code",
   "execution_count": 113,
   "metadata": {},
   "outputs": [],
   "source": [
    "if path is not None:\n",
    "    # Adjust plot style\n",
    "    plt.figure(figsize=(15, 8), dpi=80)\n",
    "    plt.grid(True)\n",
    "    plt.style.use('classic')\n",
    "\n",
    "    # Show alternative plot\n",
    "    columns = []\n",
    "    # columns = [\"ARM_SHOULDER_ORIENTATION(0)_0\", \"ARM_SHOULDER_ORIENTATION(0)_1\", \"ARM_SHOULDER_ORIENTATION(0)_2\", \"ARM_SHOULDER_ORIENTATION(0)_3\"]\n",
    "    # columns += [\"ARM_ELBOW_ORIENTATION(0)_0\", \"ARM_ELBOW_ORIENTATION(0)_1\", \"ARM_ELBOW_ORIENTATION(0)_2\", \"ARM_ELBOW_ORIENTATION(0)_3\"]\n",
    "    # columns += [\"IMU_QUATERNION(1)_0\", \"IMU_QUATERNION(1)_1\", \"IMU_QUATERNION(1)_2\", \"IMU_QUATERNION(1)_3\"]\n",
    "    # columns += [\"CALIB_ROT_VECTOR(0)_0\", \"CALIB_ROT_VECTOR(0)_1\", \"CALIB_ROT_VECTOR(0)_2\"]\n",
    "    # columns += [\"CALIB_ROT_VECTOR(1)_0\", \"CALIB_ROT_VECTOR(1)_1\", \"CALIB_ROT_VECTOR(1)_2\"]\n",
    "    columns += [\"CALIB_ERROR(0)_0\"]\n",
    "    # columns += [\"CALIB_COST_DERIVATIVE(0)_0\", \"CALIB_COST_DERIVATIVE(0)_1\", \"CALIB_COST_DERIVATIVE(1)_0\", \"CALIB_COST_DERIVATIVE(1)_1\"]\n",
    "    legend = []\n",
    "    for col in columns:\n",
    "        if col in df.columns[1:]:\n",
    "            plt.plot(df[df.columns[0]], df[col])\n",
    "            legend.append(col)\n",
    "    plt.legend(legend)\n",
    "    plt.xlabel(df.columns[0])\n",
    "    plt.show()"
   ]
  }
 ],
 "metadata": {
  "interpreter": {
   "hash": "916dbcbb3f70747c44a77c7bcd40155683ae19c65e1c03b4aa3499c5328201f1"
  },
  "kernelspec": {
   "display_name": "Python 3.8.10 64-bit",
   "language": "python",
   "name": "python3"
  },
  "language_info": {
   "codemirror_mode": {
    "name": "ipython",
    "version": 3
   },
   "file_extension": ".py",
   "mimetype": "text/x-python",
   "name": "python",
   "nbconvert_exporter": "python",
   "pygments_lexer": "ipython3",
   "version": "3.8.10"
  },
  "orig_nbformat": 4
 },
 "nbformat": 4,
 "nbformat_minor": 2
}
